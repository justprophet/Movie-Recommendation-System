{
  "nbformat": 4,
  "nbformat_minor": 0,
  "metadata": {
    "colab": {
      "name": "ALS.ipynb",
      "version": "0.3.2",
      "provenance": [],
      "collapsed_sections": []
    },
    "kernelspec": {
      "name": "python3",
      "display_name": "Python 3"
    }
  },
  "cells": [
    {
      "metadata": {
        "id": "V8TtLDJOeZy9",
        "colab_type": "code",
        "colab": {}
      },
      "cell_type": "code",
      "source": [
        "#!apt-get install openjdk-8-jdk-headless -qq > /dev/null"
      ],
      "execution_count": 0,
      "outputs": []
    },
    {
      "metadata": {
        "id": "nz1-xYX3enzc",
        "colab_type": "code",
        "colab": {}
      },
      "cell_type": "code",
      "source": [
        "#!wget -q http://apache.osuosl.org/spark/spark-2.3.3/spark-2.3.3-bin-hadoop2.6.tgz"
      ],
      "execution_count": 0,
      "outputs": []
    },
    {
      "metadata": {
        "id": "6V9vUAtwetxB",
        "colab_type": "code",
        "colab": {}
      },
      "cell_type": "code",
      "source": [
        "#!tar xf spark-2.3.3-bin-hadoop2.6.tgz"
      ],
      "execution_count": 0,
      "outputs": []
    },
    {
      "metadata": {
        "id": "MGCWBUvWf0Nz",
        "colab_type": "code",
        "colab": {}
      },
      "cell_type": "code",
      "source": [
        "#!pip install -q pyspark"
      ],
      "execution_count": 0,
      "outputs": []
    },
    {
      "metadata": {
        "id": "fBDTdrX_gTTG",
        "colab_type": "code",
        "colab": {}
      },
      "cell_type": "code",
      "source": [
        "import os\n",
        "os.environ[\"JAVA_HOME\"] = \"/usr/lib/jvm/java-8-openjdk-amd64\"\n",
        "os.environ[\"SPARK_HOME\"] = \"/content/spark-2.3.3-bin-hadoop2.6\""
      ],
      "execution_count": 0,
      "outputs": []
    },
    {
      "metadata": {
        "id": "BGQFZbIWg46n",
        "colab_type": "code",
        "colab": {}
      },
      "cell_type": "code",
      "source": [
        "#import findspark\n",
        "#findspark.init()\n",
        "#from pyspark.sql import SparkSession\n",
        "#spark = SparkSession.builder.master(\"local[*]\").getOrCreate()\n",
        "from pyspark import SparkContext, SparkConf\n",
        "from pyspark.sql import SparkSession "
      ],
      "execution_count": 0,
      "outputs": []
    },
    {
      "metadata": {
        "id": "dl-bZKHjRGvH",
        "colab_type": "code",
        "colab": {}
      },
      "cell_type": "code",
      "source": [
        "sc = SparkContext(\"local\", \"Simple App\")\n",
        "spark = SparkSession.builder.getOrCreate()"
      ],
      "execution_count": 0,
      "outputs": []
    },
    {
      "metadata": {
        "id": "FsuRSJr8gJ4s",
        "colab_type": "code",
        "colab": {}
      },
      "cell_type": "code",
      "source": [
        "#from google.colab import files\n",
        "#files.upload()"
      ],
      "execution_count": 0,
      "outputs": []
    },
    {
      "metadata": {
        "id": "t2Mf6OFfgIyR",
        "colab_type": "code",
        "outputId": "a5dfbd5a-f1bf-49ea-eb98-f94276ae3796",
        "colab": {
          "base_uri": "https://localhost:8080/",
          "height": 51
        }
      },
      "cell_type": "code",
      "source": [
        "!ls"
      ],
      "execution_count": 0,
      "outputs": [
        {
          "output_type": "stream",
          "text": [
            "ratings_small.csv  spark-2.3.3-bin-hadoop2.6\t  spark-warehouse\n",
            "sample_data\t   spark-2.3.3-bin-hadoop2.6.tgz\n"
          ],
          "name": "stdout"
        }
      ]
    },
    {
      "metadata": {
        "id": "onSEVDijOF4Y",
        "colab_type": "code",
        "colab": {}
      },
      "cell_type": "code",
      "source": [
        "#rm -r pyspark-2.3.3\n",
        "#rm spark-2.3.3-bin-hadoop2.7.tgz.1"
      ],
      "execution_count": 0,
      "outputs": []
    },
    {
      "metadata": {
        "id": "sRxXzEjQ8Bnh",
        "colab_type": "code",
        "colab": {}
      },
      "cell_type": "code",
      "source": [
        "from pyspark.sql.functions import col, min, avg"
      ],
      "execution_count": 0,
      "outputs": []
    },
    {
      "metadata": {
        "id": "xNGzD8Fu8N6N",
        "colab_type": "text"
      },
      "cell_type": "markdown",
      "source": [
        "#1. Import the dataset and perform some basic calculations\n",
        "\n",
        "a. First we upload the file using pyspark"
      ]
    },
    {
      "metadata": {
        "id": "ltZYaFqRZ2dA",
        "colab_type": "code",
        "colab": {}
      },
      "cell_type": "code",
      "source": [
        "ratings_small = spark.read.csv('ratings_small.csv',inferSchema=True, header =True)"
      ],
      "execution_count": 0,
      "outputs": []
    },
    {
      "metadata": {
        "id": "KZ1ODZbP8em7",
        "colab_type": "text"
      },
      "cell_type": "markdown",
      "source": [
        "b. Checking the number of columns in the file"
      ]
    },
    {
      "metadata": {
        "id": "x9L0wRA1MnGr",
        "colab_type": "code",
        "outputId": "7a50a7d4-a97f-4bd5-c1ec-3e9539ea2e18",
        "colab": {
          "base_uri": "https://localhost:8080/",
          "height": 34
        }
      },
      "cell_type": "code",
      "source": [
        "ratings_small.columns"
      ],
      "execution_count": 0,
      "outputs": [
        {
          "output_type": "execute_result",
          "data": {
            "text/plain": [
              "['userId', 'movieId', 'rating', 'timestamp']"
            ]
          },
          "metadata": {
            "tags": []
          },
          "execution_count": 13
        }
      ]
    },
    {
      "metadata": {
        "id": "72heET8E81LE",
        "colab_type": "text"
      },
      "cell_type": "markdown",
      "source": [
        "c. Viewing first 20 rows of the data"
      ]
    },
    {
      "metadata": {
        "id": "lPHlPD55NvSf",
        "colab_type": "code",
        "outputId": "f441abcd-cffd-4beb-daef-2f974cec6b4a",
        "colab": {
          "base_uri": "https://localhost:8080/",
          "height": 459
        }
      },
      "cell_type": "code",
      "source": [
        "ratings_small.show()"
      ],
      "execution_count": 0,
      "outputs": [
        {
          "output_type": "stream",
          "text": [
            "+------+-------+------+----------+\n",
            "|userId|movieId|rating| timestamp|\n",
            "+------+-------+------+----------+\n",
            "|     1|     31|   2.5|1260759144|\n",
            "|     1|   1029|   3.0|1260759179|\n",
            "|     1|   1061|   3.0|1260759182|\n",
            "|     1|   1129|   2.0|1260759185|\n",
            "|     1|   1172|   4.0|1260759205|\n",
            "|     1|   1263|   2.0|1260759151|\n",
            "|     1|   1287|   2.0|1260759187|\n",
            "|     1|   1293|   2.0|1260759148|\n",
            "|     1|   1339|   3.5|1260759125|\n",
            "|     1|   1343|   2.0|1260759131|\n",
            "|     1|   1371|   2.5|1260759135|\n",
            "|     1|   1405|   1.0|1260759203|\n",
            "|     1|   1953|   4.0|1260759191|\n",
            "|     1|   2105|   4.0|1260759139|\n",
            "|     1|   2150|   3.0|1260759194|\n",
            "|     1|   2193|   2.0|1260759198|\n",
            "|     1|   2294|   2.0|1260759108|\n",
            "|     1|   2455|   2.5|1260759113|\n",
            "|     1|   2968|   1.0|1260759200|\n",
            "|     1|   3671|   3.0|1260759117|\n",
            "+------+-------+------+----------+\n",
            "only showing top 20 rows\n",
            "\n"
          ],
          "name": "stdout"
        }
      ]
    },
    {
      "metadata": {
        "id": "aLEm50I386mx",
        "colab_type": "text"
      },
      "cell_type": "markdown",
      "source": [
        "d. Calculation the number of distinct users and movies."
      ]
    },
    {
      "metadata": {
        "id": "3NU-lSkt4OOw",
        "colab_type": "code",
        "outputId": "c5ed8df5-d058-4a87-e4a1-0e925714ea50",
        "colab": {
          "base_uri": "https://localhost:8080/",
          "height": 51
        }
      },
      "cell_type": "code",
      "source": [
        "user_count=ratings_small.select(\"userId\").distinct().count()\n",
        "print(\"Number of users: \", user_count)\n",
        "\n",
        "movie_count=ratings_small.select(\"movieId\").distinct().count()\n",
        "print(\"Number of movies: \", movie_count)\n"
      ],
      "execution_count": 0,
      "outputs": [
        {
          "output_type": "stream",
          "text": [
            "Number of users:  671\n",
            "Number of movies:  9066\n"
          ],
          "name": "stdout"
        }
      ]
    },
    {
      "metadata": {
        "id": "CvGMUWZC9AeG",
        "colab_type": "text"
      },
      "cell_type": "markdown",
      "source": [
        "e. The GroupBy and Filter Methods"
      ]
    },
    {
      "metadata": {
        "id": "FT_rEe-f9h61",
        "colab_type": "code",
        "outputId": "3a0114bb-e503-4726-8644-609415f85b82",
        "colab": {
          "base_uri": "https://localhost:8080/",
          "height": 1343
        }
      },
      "cell_type": "code",
      "source": [
        "# View the ratings dataset\n",
        "ratings_small.show()\n",
        "\n",
        "# Filter out all userIds greater than 100\n",
        "ratings_small.filter(col(\"userId\") < 100).show()\n",
        "\n",
        "# Group data by userId, count ratings\n",
        "ratings_small.groupBy(\"userId\").count().show()"
      ],
      "execution_count": 0,
      "outputs": [
        {
          "output_type": "stream",
          "text": [
            "+------+-------+------+----------+\n",
            "|userId|movieId|rating| timestamp|\n",
            "+------+-------+------+----------+\n",
            "|     1|     31|   2.5|1260759144|\n",
            "|     1|   1029|   3.0|1260759179|\n",
            "|     1|   1061|   3.0|1260759182|\n",
            "|     1|   1129|   2.0|1260759185|\n",
            "|     1|   1172|   4.0|1260759205|\n",
            "|     1|   1263|   2.0|1260759151|\n",
            "|     1|   1287|   2.0|1260759187|\n",
            "|     1|   1293|   2.0|1260759148|\n",
            "|     1|   1339|   3.5|1260759125|\n",
            "|     1|   1343|   2.0|1260759131|\n",
            "|     1|   1371|   2.5|1260759135|\n",
            "|     1|   1405|   1.0|1260759203|\n",
            "|     1|   1953|   4.0|1260759191|\n",
            "|     1|   2105|   4.0|1260759139|\n",
            "|     1|   2150|   3.0|1260759194|\n",
            "|     1|   2193|   2.0|1260759198|\n",
            "|     1|   2294|   2.0|1260759108|\n",
            "|     1|   2455|   2.5|1260759113|\n",
            "|     1|   2968|   1.0|1260759200|\n",
            "|     1|   3671|   3.0|1260759117|\n",
            "+------+-------+------+----------+\n",
            "only showing top 20 rows\n",
            "\n",
            "+------+-------+------+----------+\n",
            "|userId|movieId|rating| timestamp|\n",
            "+------+-------+------+----------+\n",
            "|     1|     31|   2.5|1260759144|\n",
            "|     1|   1029|   3.0|1260759179|\n",
            "|     1|   1061|   3.0|1260759182|\n",
            "|     1|   1129|   2.0|1260759185|\n",
            "|     1|   1172|   4.0|1260759205|\n",
            "|     1|   1263|   2.0|1260759151|\n",
            "|     1|   1287|   2.0|1260759187|\n",
            "|     1|   1293|   2.0|1260759148|\n",
            "|     1|   1339|   3.5|1260759125|\n",
            "|     1|   1343|   2.0|1260759131|\n",
            "|     1|   1371|   2.5|1260759135|\n",
            "|     1|   1405|   1.0|1260759203|\n",
            "|     1|   1953|   4.0|1260759191|\n",
            "|     1|   2105|   4.0|1260759139|\n",
            "|     1|   2150|   3.0|1260759194|\n",
            "|     1|   2193|   2.0|1260759198|\n",
            "|     1|   2294|   2.0|1260759108|\n",
            "|     1|   2455|   2.5|1260759113|\n",
            "|     1|   2968|   1.0|1260759200|\n",
            "|     1|   3671|   3.0|1260759117|\n",
            "+------+-------+------+----------+\n",
            "only showing top 20 rows\n",
            "\n",
            "+------+-----+\n",
            "|userId|count|\n",
            "+------+-----+\n",
            "|   148|  132|\n",
            "|   463|  483|\n",
            "|   471|  216|\n",
            "|   496|  126|\n",
            "|   243|  307|\n",
            "|   392|   25|\n",
            "|   540|   20|\n",
            "|   623|  103|\n",
            "|    31|   69|\n",
            "|   516|  149|\n",
            "|    85|  107|\n",
            "|   137|   80|\n",
            "|   251|  119|\n",
            "|   451|   52|\n",
            "|   580|  922|\n",
            "|    65|   27|\n",
            "|   458|   76|\n",
            "|    53|   46|\n",
            "|   255|  145|\n",
            "|   481|  436|\n",
            "+------+-----+\n",
            "only showing top 20 rows\n",
            "\n"
          ],
          "name": "stdout"
        }
      ]
    },
    {
      "metadata": {
        "id": "zIrJuNiHWJRi",
        "colab_type": "text"
      },
      "cell_type": "markdown",
      "source": [
        "# Summary Statistics"
      ]
    },
    {
      "metadata": {
        "id": "uXMoM29cWBGP",
        "colab_type": "code",
        "outputId": "ade38e20-91fa-4dc6-9ac5-9bdc42da89ed",
        "colab": {
          "base_uri": "https://localhost:8080/",
          "height": 493
        }
      },
      "cell_type": "code",
      "source": [
        "# Min num ratings for movies\n",
        "print(\"Movie with the fewest ratings: \")\n",
        "ratings_small.groupBy(\"movieId\").count().select(min(\"count\")).show()\n",
        "\n",
        "# Avg num ratings per movie\n",
        "print(\"Avg num ratings per movie: \")\n",
        "ratings_small.groupBy(\"movieId\").count().select(avg(\"count\")).show()\n",
        "\n",
        "# Min num ratings for user\n",
        "print(\"User with the fewest ratings: \")\n",
        "ratings_small.groupBy(\"userId\").count().select(min(\"count\")).show()\n",
        "\n",
        "# Avg num ratings per users\n",
        "print(\"Avg num ratings per user: \")\n",
        "ratings_small.groupBy(\"userId\").count().select(avg(\"count\")).show()"
      ],
      "execution_count": 0,
      "outputs": [
        {
          "output_type": "stream",
          "text": [
            "Movie with the fewest ratings: \n",
            "+----------+\n",
            "|min(count)|\n",
            "+----------+\n",
            "|         1|\n",
            "+----------+\n",
            "\n",
            "Avg num ratings per movie: \n",
            "+------------------+\n",
            "|        avg(count)|\n",
            "+------------------+\n",
            "|11.030664019413193|\n",
            "+------------------+\n",
            "\n",
            "User with the fewest ratings: \n",
            "+----------+\n",
            "|min(count)|\n",
            "+----------+\n",
            "|        20|\n",
            "+----------+\n",
            "\n",
            "Avg num ratings per user: \n",
            "+------------------+\n",
            "|        avg(count)|\n",
            "+------------------+\n",
            "|149.03725782414307|\n",
            "+------------------+\n",
            "\n"
          ],
          "name": "stdout"
        }
      ]
    },
    {
      "metadata": {
        "id": "-fyGpmYtQThr",
        "colab_type": "text"
      },
      "cell_type": "markdown",
      "source": [
        "# Calculate Sparcity of the DataFrame"
      ]
    },
    {
      "metadata": {
        "id": "eVdV50qPQiSO",
        "colab_type": "code",
        "outputId": "2db1ba49-d16e-41c3-8b15-465d90125892",
        "colab": {
          "base_uri": "https://localhost:8080/",
          "height": 34
        }
      },
      "cell_type": "code",
      "source": [
        "# Count the total number of ratings in the dataset\n",
        "numerator = ratings_small.select(\"rating\").count()\n",
        "\n",
        "# Count the number of distinct userIds and distinct movieIds.\n",
        "num_users = ratings_small.select(\"userId\").distinct().count()\n",
        "num_movies = ratings_small.select(\"movieId\").distinct().count()\n",
        "\n",
        "# Set the denominator equal to the number of users multiplied by the number of movies\n",
        "denominator = num_users * num_movies\n",
        "\n",
        "# Divide the numerator by the denominator\n",
        "sparsity = (1.0 - (numerator *1.0)/denominator)*100\n",
        "print (\"The ratings dataframe is \", \"%.2f\" % sparsity + \"% empty.\")"
      ],
      "execution_count": 0,
      "outputs": [
        {
          "output_type": "stream",
          "text": [
            "The ratings dataframe is  98.36% empty.\n"
          ],
          "name": "stdout"
        }
      ]
    },
    {
      "metadata": {
        "id": "_GjDYmjPWrbo",
        "colab_type": "text"
      },
      "cell_type": "markdown",
      "source": [
        "# View Schema"
      ]
    },
    {
      "metadata": {
        "id": "wPdDMPx0YvUx",
        "colab_type": "code",
        "outputId": "dcafd414-a57e-48d5-82c6-2eefa698f229",
        "colab": {
          "base_uri": "https://localhost:8080/",
          "height": 204
        }
      },
      "cell_type": "code",
      "source": [
        "# Use the .printSchema() method to see the datatypes of the ratings dataset.\n",
        "ratings_small.printSchema()\n",
        "\n",
        "# Tell Spark to convert the columns to the proper data types.\n",
        "ratings_small = ratings_small.select(ratings_small.userId.cast(\"integer\"), ratings_small.movieId.cast(\"integer\"), ratings_small.rating.cast(\"double\"))\n",
        "\n",
        "# Call .printSchema() again to confirm the columns are now in the correct format\n",
        "ratings_small.printSchema()"
      ],
      "execution_count": 0,
      "outputs": [
        {
          "output_type": "stream",
          "text": [
            "root\n",
            " |-- userId: integer (nullable = true)\n",
            " |-- movieId: integer (nullable = true)\n",
            " |-- rating: double (nullable = true)\n",
            " |-- timestamp: integer (nullable = true)\n",
            "\n",
            "root\n",
            " |-- userId: integer (nullable = true)\n",
            " |-- movieId: integer (nullable = true)\n",
            " |-- rating: double (nullable = true)\n",
            "\n"
          ],
          "name": "stdout"
        }
      ]
    },
    {
      "metadata": {
        "id": "_Cml11-3YBmS",
        "colab_type": "text"
      },
      "cell_type": "markdown",
      "source": [
        "# Create test/train splits and build your ALS model"
      ]
    },
    {
      "metadata": {
        "id": "1ZVfbSw6XDIB",
        "colab_type": "code",
        "colab": {}
      },
      "cell_type": "code",
      "source": [
        "from pyspark.ml.evaluation import RegressionEvaluator\n",
        "from pyspark.ml.recommendation import ALS\n",
        "from pyspark.ml.tuning import ParamGridBuilder, CrossValidator"
      ],
      "execution_count": 0,
      "outputs": []
    },
    {
      "metadata": {
        "id": "ohzBq7zvYd8p",
        "colab_type": "code",
        "outputId": "d124fc8f-fd20-4428-950b-e49ea49c5428",
        "colab": {
          "base_uri": "https://localhost:8080/",
          "height": 901
        }
      },
      "cell_type": "code",
      "source": [
        "# Create test and train set\n",
        "(train, test) = ratings_small.randomSplit([0.80, 0.20], seed = 1234)\n",
        "ratings_small.show()\n",
        "# Create ALS model\n",
        "als = ALS(userCol=\"userId\", itemCol=\"movieId\", ratingCol=\"rating\", rank =10, maxIter =15, regParam =.1,\n",
        "            coldStartStrategy=\"drop\", nonnegative =True, implicitPrefs = False)\n",
        "\n",
        "# Fit the mdoel to the training_data\n",
        "model = als.fit(train)\n",
        "\n",
        "# Generate predictions on the test_data\n",
        "test_predictions = model.transform(test)\n",
        "test_predictions.show()"
      ],
      "execution_count": 0,
      "outputs": [
        {
          "output_type": "stream",
          "text": [
            "+------+-------+------+\n",
            "|userId|movieId|rating|\n",
            "+------+-------+------+\n",
            "|     1|     31|   2.5|\n",
            "|     1|   1029|   3.0|\n",
            "|     1|   1061|   3.0|\n",
            "|     1|   1129|   2.0|\n",
            "|     1|   1172|   4.0|\n",
            "|     1|   1263|   2.0|\n",
            "|     1|   1287|   2.0|\n",
            "|     1|   1293|   2.0|\n",
            "|     1|   1339|   3.5|\n",
            "|     1|   1343|   2.0|\n",
            "|     1|   1371|   2.5|\n",
            "|     1|   1405|   1.0|\n",
            "|     1|   1953|   4.0|\n",
            "|     1|   2105|   4.0|\n",
            "|     1|   2150|   3.0|\n",
            "|     1|   2193|   2.0|\n",
            "|     1|   2294|   2.0|\n",
            "|     1|   2455|   2.5|\n",
            "|     1|   2968|   1.0|\n",
            "|     1|   3671|   3.0|\n",
            "+------+-------+------+\n",
            "only showing top 20 rows\n",
            "\n",
            "+------+-------+------+----------+\n",
            "|userId|movieId|rating|prediction|\n",
            "+------+-------+------+----------+\n",
            "|   232|    463|   4.0| 3.4895976|\n",
            "|   452|    463|   2.0| 2.8818955|\n",
            "|   534|    463|   4.0|   3.36804|\n",
            "|    86|    471|   4.0| 4.1151204|\n",
            "|   292|    471|   3.5| 4.0617824|\n",
            "|   306|    471|   3.0| 3.7516801|\n",
            "|   491|    471|   3.0| 4.0695353|\n",
            "|   309|    471|   4.0|  4.269315|\n",
            "|   607|    471|   4.0| 3.7564955|\n",
            "|    23|    471|   3.5| 3.8811774|\n",
            "|   514|    471|   4.0|   4.18469|\n",
            "|   585|    471|   4.0|  4.431021|\n",
            "|   574|    471|   3.5| 3.8619456|\n",
            "|   354|    471|   5.0| 4.1767726|\n",
            "|   242|    471|   5.0| 4.4315233|\n",
            "|   529|    471|   4.0| 3.5643702|\n",
            "|    30|    471|   4.0| 4.1113615|\n",
            "|   311|    471|   0.5|  2.540586|\n",
            "|   399|    471|   5.0| 2.9007144|\n",
            "|   509|    496|   3.0| 2.1143327|\n",
            "+------+-------+------+----------+\n",
            "only showing top 20 rows\n",
            "\n"
          ],
          "name": "stdout"
        }
      ]
    },
    {
      "metadata": {
        "id": "IYmtRqvQYHQz",
        "colab_type": "code",
        "colab": {}
      },
      "cell_type": "code",
      "source": [
        "# Create test and train set\n",
        "\n",
        "#(train, test) = ratings_small.randomSplit([0.80, 0.20], seed = 1234)\n",
        "#ratings_small.show()\n",
        "\n",
        "# Create ALS model\n",
        "\n",
        "#als = ALS(userCol=\"userId\", itemCol=\"movieId\", ratingCol=\"rating\", nonnegative = True, implicitPrefs = False)\n",
        "\n",
        "# Confirm that a model called \"als\" was created\n",
        "\n",
        "#type(als)"
      ],
      "execution_count": 0,
      "outputs": []
    },
    {
      "metadata": {
        "id": "f3lVeJW-YNQY",
        "colab_type": "code",
        "colab": {}
      },
      "cell_type": "code",
      "source": [
        "# Add hyperparameters and their respective values to param_grid\n",
        "\n",
        "#param_grid = ParamGridBuilder() \\\n",
        "#            .addGrid(als.rank, [10, 50, 100, 150]) \\\n",
        "#            .addGrid(als.maxIter, [5, 50, 100, 200]) \\\n",
        "#            .addGrid(als.regParam, [.01, .05, .1, .15]) \\\n",
        "#            .build()\n",
        "\n",
        "# Define evaluator as RMSE and print length of evaluator\n",
        "#evaluator = RegressionEvaluator(metricName=\"rmse\", labelCol=\"rating\", predictionCol=\"prediction\") \n",
        "#print (\"Num models to be tested: \", len(param_grid))"
      ],
      "execution_count": 0,
      "outputs": []
    },
    {
      "metadata": {
        "id": "4Sj2SEMFYYb4",
        "colab_type": "code",
        "colab": {}
      },
      "cell_type": "code",
      "source": [
        "# Build cross validator\n",
        "#cv = CrossValidator(estimator=als, estimatorParamMaps=param_grid, evaluator=evaluator, numFolds=5)\n",
        "\n",
        "# Confirm cv was built\n",
        "#print (cv)\n"
      ],
      "execution_count": 0,
      "outputs": []
    },
    {
      "metadata": {
        "id": "rCDBw4xbYc6r",
        "colab_type": "code",
        "colab": {}
      },
      "cell_type": "code",
      "source": [
        "#Fit cross validator to the 'train' dataset\n",
        "\n",
        "#model = cv.fit(train)\n",
        "\n",
        "#Extract best model from the cv model above\n",
        "\n",
        "#best_model = model.bestModel\n"
      ],
      "execution_count": 0,
      "outputs": []
    },
    {
      "metadata": {
        "id": "3XwYiIuJG5bu",
        "colab_type": "text"
      },
      "cell_type": "markdown",
      "source": [
        "Best Model and Best Model Parameters"
      ]
    },
    {
      "metadata": {
        "id": "7pWSwusgG3Cl",
        "colab_type": "code",
        "colab": {}
      },
      "cell_type": "code",
      "source": [
        "# Print best_model\n",
        "\n",
        "#print(type(best_model))\n",
        "\n",
        "# Complete the code below to extract the ALS model parameters\n",
        "\n",
        "#print(\"**Best Model**\")\n",
        "\n",
        "# Print \"Rank\"\n",
        "\n",
        "#print(\"  Rank:\", best_model.getRank())\n",
        "\n",
        "# Print \"MaxIter\"\n",
        "\n",
        "#print(\"  MaxIter:\", best_model.getMaxIter())\n",
        "\n",
        "# Print \"RegParam\"\n",
        "\n",
        "#print(\"  RegParam:\", best_model.getRegParam())"
      ],
      "execution_count": 0,
      "outputs": []
    },
    {
      "metadata": {
        "id": "iFtfR6thHOXx",
        "colab_type": "text"
      },
      "cell_type": "markdown",
      "source": [
        "Generate predictions and calculate RMSE"
      ]
    },
    {
      "metadata": {
        "id": "0RENJ76YY01f",
        "colab_type": "code",
        "colab": {}
      },
      "cell_type": "code",
      "source": [
        "  # View the predictions \n",
        "#test_predictions.show()\n",
        "\n",
        "# Calculate and print the RMSE of the test_predictions\n",
        "\n",
        "#RMSE = evaluator.evaluate(test_predictions)\n",
        "#print (RMSE)"
      ],
      "execution_count": 0,
      "outputs": []
    },
    {
      "metadata": {
        "id": "CKu5u-NZHTUW",
        "colab_type": "code",
        "outputId": "ea4c44af-b508-46a9-ba06-80d61445fb81",
        "colab": {
          "base_uri": "https://localhost:8080/",
          "height": 527
        }
      },
      "cell_type": "code",
      "source": [
        "from pyspark.ml.evaluation import RegressionEvaluator\n",
        "\n",
        "# Complete the evaluator code\n",
        "evaluator = RegressionEvaluator(metricName=\"rmse\", labelCol=\"rating\", predictionCol=\"prediction\")\n",
        "\n",
        "# Extract the 3 parameters\n",
        "print (evaluator.getMetricName())\n",
        "print (evaluator.getLabelCol())\n",
        "print (evaluator.getPredictionCol())\n",
        "\n",
        "# Evaluate the \"test_predictions\" dataframe\n",
        "RMSE = evaluator.evaluate(test_predictions)\n",
        "\n",
        "# Print the RMSE\n",
        "print (RMSE)\n",
        "\n",
        "test_predictions.show()"
      ],
      "execution_count": 0,
      "outputs": [
        {
          "output_type": "stream",
          "text": [
            "rmse\n",
            "rating\n",
            "prediction\n",
            "0.9090895910523555\n",
            "+------+-------+------+----------+\n",
            "|userId|movieId|rating|prediction|\n",
            "+------+-------+------+----------+\n",
            "|   232|    463|   4.0| 3.4895976|\n",
            "|   452|    463|   2.0| 2.8818955|\n",
            "|   534|    463|   4.0|   3.36804|\n",
            "|    86|    471|   4.0| 4.1151204|\n",
            "|   292|    471|   3.5| 4.0617824|\n",
            "|   306|    471|   3.0| 3.7516801|\n",
            "|   491|    471|   3.0| 4.0695353|\n",
            "|   309|    471|   4.0|  4.269315|\n",
            "|   607|    471|   4.0| 3.7564955|\n",
            "|    23|    471|   3.5| 3.8811774|\n",
            "|   514|    471|   4.0|   4.18469|\n",
            "|   585|    471|   4.0|  4.431021|\n",
            "|   574|    471|   3.5| 3.8619456|\n",
            "|   354|    471|   5.0| 4.1767726|\n",
            "|   242|    471|   5.0| 4.4315233|\n",
            "|   529|    471|   4.0| 3.5643702|\n",
            "|    30|    471|   4.0| 4.1113615|\n",
            "|   311|    471|   0.5|  2.540586|\n",
            "|   399|    471|   5.0| 2.9007144|\n",
            "|   509|    496|   3.0| 2.1143327|\n",
            "+------+-------+------+----------+\n",
            "only showing top 20 rows\n",
            "\n"
          ],
          "name": "stdout"
        }
      ]
    },
    {
      "metadata": {
        "id": "bMvbiScWREuJ",
        "colab_type": "code",
        "colab": {}
      },
      "cell_type": "code",
      "source": [
        ""
      ],
      "execution_count": 0,
      "outputs": []
    }
  ]
}