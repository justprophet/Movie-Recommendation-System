{
  "nbformat": 4,
  "nbformat_minor": 0,
  "metadata": {
    "colab": {
      "name": "Content-based_prediction_using_CountVectorizer.ipynb",
      "version": "0.3.2",
      "provenance": [],
      "collapsed_sections": [],
      "include_colab_link": true
    },
    "kernelspec": {
      "name": "python3",
      "display_name": "Python 3"
    }
  },
  "cells": [
    {
      "cell_type": "markdown",
      "metadata": {
        "id": "view-in-github",
        "colab_type": "text"
      },
      "source": [
        "<a href=\"https://colab.research.google.com/github/justprophet/Movie-Recommendation-System/blob/master/code/Content_based_prediction_using_CountVectorizer.ipynb\" target=\"_parent\"><img src=\"https://colab.research.google.com/assets/colab-badge.svg\" alt=\"Open In Colab\"/></a>"
      ]
    },
    {
      "metadata": {
        "id": "kwQataaThqau",
        "colab_type": "text"
      },
      "cell_type": "markdown",
      "source": [
        "##Importing Libraries"
      ]
    },
    {
      "metadata": {
        "id": "NCOg85xrWu6w",
        "colab_type": "code",
        "colab": {}
      },
      "cell_type": "code",
      "source": [
        "import numpy as np"
      ],
      "execution_count": 0,
      "outputs": []
    },
    {
      "metadata": {
        "id": "Wuz6ABAbXb6e",
        "colab_type": "code",
        "colab": {}
      },
      "cell_type": "code",
      "source": [
        "import pandas as pd\n",
        "import io"
      ],
      "execution_count": 0,
      "outputs": []
    },
    {
      "metadata": {
        "id": "n_tLdLinhvUD",
        "colab_type": "text"
      },
      "cell_type": "markdown",
      "source": [
        "##Mounting Drive"
      ]
    },
    {
      "metadata": {
        "id": "rk5OC7gyXfy2",
        "colab_type": "code",
        "outputId": "a3009e94-bd51-4cb0-cd86-fb68c75157e9",
        "colab": {
          "base_uri": "https://localhost:8080/",
          "height": 35
        }
      },
      "cell_type": "code",
      "source": [
        "from google.colab import drive \n",
        "drive.mount('/content/gdrive')"
      ],
      "execution_count": 0,
      "outputs": [
        {
          "output_type": "stream",
          "text": [
            "Drive already mounted at /content/gdrive; to attempt to forcibly remount, call drive.mount(\"/content/gdrive\", force_remount=True).\n"
          ],
          "name": "stdout"
        }
      ]
    },
    {
      "metadata": {
        "id": "R4IiaRfxbZb3",
        "colab_type": "text"
      },
      "cell_type": "markdown",
      "source": [
        ""
      ]
    },
    {
      "metadata": {
        "id": "Ymvl-61GP4Lg",
        "colab_type": "code",
        "colab": {}
      },
      "cell_type": "code",
      "source": [
        "df=pd.read_csv('gdrive/My Drive/Assignment 2/Data/merged_without_ratings_data.csv')"
      ],
      "execution_count": 0,
      "outputs": []
    },
    {
      "metadata": {
        "id": "Y6I9FBleQtCF",
        "colab_type": "code",
        "outputId": "c58990c4-009d-45f6-8645-fb11f5736deb",
        "colab": {
          "base_uri": "https://localhost:8080/",
          "height": 123
        }
      },
      "cell_type": "code",
      "source": [
        "df['CastCrew'] = df['cast'] + df['crew']\n",
        "df['CastCrew'].head()"
      ],
      "execution_count": 0,
      "outputs": [
        {
          "output_type": "execute_result",
          "data": {
            "text/plain": [
              "0    ['Tom Hanks', 'Tim Allen', 'Don Rickles', 'Jim...\n",
              "1    ['Robin Williams', 'Jonathan Hyde', 'Kirsten D...\n",
              "2    ['Walter Matthau', 'Jack Lemmon', 'Ann-Margret...\n",
              "3    ['Whitney Houston', 'Angela Bassett', 'Loretta...\n",
              "4    ['Steve Martin', 'Diane Keaton', 'Martin Short...\n",
              "Name: CastCrew, dtype: object"
            ]
          },
          "metadata": {
            "tags": []
          },
          "execution_count": 7
        }
      ]
    },
    {
      "metadata": {
        "id": "cJ7JSe9wYD68",
        "colab_type": "code",
        "colab": {}
      },
      "cell_type": "code",
      "source": [
        "df_small = df[0:25000]"
      ],
      "execution_count": 0,
      "outputs": []
    },
    {
      "metadata": {
        "id": "dyrcOX2IYJgs",
        "colab_type": "code",
        "outputId": "51a32a03-6657-488e-eaab-543287d01bcf",
        "colab": {
          "base_uri": "https://localhost:8080/",
          "height": 35
        }
      },
      "cell_type": "code",
      "source": [
        "df_small.shape"
      ],
      "execution_count": 0,
      "outputs": [
        {
          "output_type": "execute_result",
          "data": {
            "text/plain": [
              "(25000, 19)"
            ]
          },
          "metadata": {
            "tags": []
          },
          "execution_count": 9
        }
      ]
    },
    {
      "metadata": {
        "id": "M-l1kE42YLtC",
        "colab_type": "code",
        "colab": {}
      },
      "cell_type": "code",
      "source": [
        "df_small.columns"
      ],
      "execution_count": 0,
      "outputs": []
    },
    {
      "metadata": {
        "id": "mRHFCAhoYQ1L",
        "colab_type": "text"
      },
      "cell_type": "markdown",
      "source": [
        "##Content_Based"
      ]
    },
    {
      "metadata": {
        "id": "S8XDdn2fYOWO",
        "colab_type": "code",
        "outputId": "97cbfe70-265c-42ef-fbfd-78b1a98ddb6a",
        "colab": {
          "base_uri": "https://localhost:8080/",
          "height": 123
        }
      },
      "cell_type": "code",
      "source": [
        "df_small['overview'].head(5)"
      ],
      "execution_count": 0,
      "outputs": [
        {
          "output_type": "execute_result",
          "data": {
            "text/plain": [
              "0    Led by Woody, Andy's toys live happily in his ...\n",
              "1    When siblings Judy and Peter discover an encha...\n",
              "2    A family wedding reignites the ancient feud be...\n",
              "3    Cheated on, mistreated and stepped on, the wom...\n",
              "4    Just when George Banks has recovered from his ...\n",
              "Name: overview, dtype: object"
            ]
          },
          "metadata": {
            "tags": []
          },
          "execution_count": 11
        }
      ]
    },
    {
      "metadata": {
        "id": "YWsiCfFyYQR3",
        "colab_type": "code",
        "colab": {}
      },
      "cell_type": "code",
      "source": [
        "from sklearn.feature_extraction.text import CountVectorizer"
      ],
      "execution_count": 0,
      "outputs": []
    },
    {
      "metadata": {
        "id": "Wn5tHAqIYUnB",
        "colab_type": "code",
        "outputId": "69f44f7e-b56c-4d15-e23b-a39aecc1cc44",
        "colab": {
          "base_uri": "https://localhost:8080/",
          "height": 35
        }
      },
      "cell_type": "code",
      "source": [
        "#Define a CountVectorizer Object. Remove all english stop words such as 'the', 'a'\n",
        "cv = CountVectorizer()\n",
        "#Construct the required CountVectorizer matrix by fitting and transforming the data\n",
        "cv_matrix = cv.fit_transform(df_small['overview'].dropna())\n",
        "cv_matrix.shape"
      ],
      "execution_count": 0,
      "outputs": [
        {
          "output_type": "execute_result",
          "data": {
            "text/plain": [
              "(25000, 53563)"
            ]
          },
          "metadata": {
            "tags": []
          },
          "execution_count": 16
        }
      ]
    },
    {
      "metadata": {
        "id": "WmRiM9CzaBkq",
        "colab_type": "text"
      },
      "cell_type": "markdown",
      "source": [
        "We see that over 53259 different words were used to describe the 25000 movies in our dataset.\n",
        "\n"
      ]
    },
    {
      "metadata": {
        "id": "Qx7mdNN2YYC_",
        "colab_type": "code",
        "colab": {}
      },
      "cell_type": "code",
      "source": [
        "#compute similarity score using the cosine similarity matrix\n",
        "from sklearn.metrics.pairwise import linear_kernel"
      ],
      "execution_count": 0,
      "outputs": []
    },
    {
      "metadata": {
        "id": "kDkC7VzHOqRx",
        "colab_type": "text"
      },
      "cell_type": "markdown",
      "source": [
        "###creating cosine similarity matrix for overview"
      ]
    },
    {
      "metadata": {
        "id": "nwGhFhHIYcdL",
        "colab_type": "code",
        "colab": {}
      },
      "cell_type": "code",
      "source": [
        "cosine_sim = linear_kernel(cv_matrix, cv_matrix)"
      ],
      "execution_count": 0,
      "outputs": []
    },
    {
      "metadata": {
        "id": "CFsf9AtTbFzB",
        "colab_type": "text"
      },
      "cell_type": "markdown",
      "source": [
        "We are going to define a function that takes in a movie title as an input and outputs a list of the 10 most similar movies. Firstly, for this, we need a reverse mapping of movie titles and dataframe indices which means we need a mechanism to identify the index of a movie in our dataframe, given its title."
      ]
    },
    {
      "metadata": {
        "id": "igHvRmkTYesQ",
        "colab_type": "code",
        "colab": {}
      },
      "cell_type": "code",
      "source": [
        "#Construct a reverse map of indices and movie titles\n",
        "indices = pd.Series(df_small.index, index=df_small['title']).drop_duplicates()"
      ],
      "execution_count": 0,
      "outputs": []
    },
    {
      "metadata": {
        "id": "0TBSFe5XZRZR",
        "colab_type": "code",
        "colab": {}
      },
      "cell_type": "code",
      "source": [
        "# Function that takes in movie title as input and outputs most similar movies\n",
        "def get_recommendations(title, cosine_sim=cosine_sim):\n",
        "    # Get the index of the movie that matches the title\n",
        "    idx = indices[title]\n",
        "\n",
        "    # Get the pairwsie similarity scores of all movies with that movie\n",
        "    sim_scores = list(enumerate(cosine_sim[idx]))\n",
        "\n",
        "    # Sort the movies based on the similarity scores\n",
        "    sim_scores = sorted(sim_scores, key=lambda x: x[1], reverse=True)\n",
        "\n",
        "    # Get the scores of the 10 most similar movies\n",
        "    sim_scores = sim_scores[1:11]\n",
        "\n",
        "    # Get the movie indices\n",
        "    movie_indices = [i[0] for i in sim_scores]\n",
        "\n",
        "    # Return the top 10 most similar movies\n",
        "    return df_small['title'].iloc[movie_indices]"
      ],
      "execution_count": 0,
      "outputs": []
    },
    {
      "metadata": {
        "id": "UIYP27GvZVDv",
        "colab_type": "code",
        "colab": {}
      },
      "cell_type": "code",
      "source": [
        "df_small.head(5)"
      ],
      "execution_count": 0,
      "outputs": []
    },
    {
      "metadata": {
        "id": "whdvQaWNHXMZ",
        "colab_type": "text"
      },
      "cell_type": "markdown",
      "source": [
        ""
      ]
    },
    {
      "metadata": {
        "id": "bbct0VLeZZZw",
        "colab_type": "code",
        "colab": {}
      },
      "cell_type": "code",
      "source": [
        "get_recommendations('Jumanji')"
      ],
      "execution_count": 0,
      "outputs": []
    },
    {
      "metadata": {
        "id": "EwawpNeIIMjo",
        "colab_type": "code",
        "colab": {}
      },
      "cell_type": "code",
      "source": [
        "df_small['cast'].head(5)"
      ],
      "execution_count": 0,
      "outputs": []
    },
    {
      "metadata": {
        "id": "SfwMsqniIMmI",
        "colab_type": "code",
        "colab": {}
      },
      "cell_type": "code",
      "source": [
        "df_small['crew'].head(5)"
      ],
      "execution_count": 0,
      "outputs": []
    },
    {
      "metadata": {
        "id": "jaTH3YloIMon",
        "colab_type": "code",
        "colab": {}
      },
      "cell_type": "code",
      "source": [
        "df_small['keywords'].head(5)"
      ],
      "execution_count": 0,
      "outputs": []
    },
    {
      "metadata": {
        "id": "6R5OMWQsYqjM",
        "colab_type": "text"
      },
      "cell_type": "markdown",
      "source": [
        "#Cast_Crew_Based_Recommendation using CountVectorizer"
      ]
    },
    {
      "metadata": {
        "id": "vs_og-HgIMqZ",
        "colab_type": "code",
        "outputId": "16b0c79a-2ea7-4066-8ecc-161e4d89ffb9",
        "colab": {
          "base_uri": "https://localhost:8080/",
          "height": 35
        }
      },
      "cell_type": "code",
      "source": [
        "#Define a Count Vectorizer Object. Remove all english stop words such as 'the', 'a'\n",
        "cv2 = CountVectorizer(stop_words='english')\n",
        "#Construct the required Count Vectorizer matrix by fitting and transforming the data\n",
        "cv2_matrix2 = cv2.fit_transform(df_small['CastCrew'].dropna())\n",
        "cv2_matrix2.shape"
      ],
      "execution_count": 0,
      "outputs": [
        {
          "output_type": "execute_result",
          "data": {
            "text/plain": [
              "(25000, 113799)"
            ]
          },
          "metadata": {
            "tags": []
          },
          "execution_count": 13
        }
      ]
    },
    {
      "metadata": {
        "id": "EEPZkZk_PGfJ",
        "colab_type": "text"
      },
      "cell_type": "markdown",
      "source": [
        "###creating cosine similarity matrix for castcrew"
      ]
    },
    {
      "metadata": {
        "id": "qRQxzpK-Fz7N",
        "colab_type": "code",
        "outputId": "4f29ea84-efb7-426c-e56e-4c6ffa2e843c",
        "colab": {
          "base_uri": "https://localhost:8080/",
          "height": 52
        }
      },
      "cell_type": "code",
      "source": [
        "cv2_matrix2"
      ],
      "execution_count": 0,
      "outputs": [
        {
          "output_type": "execute_result",
          "data": {
            "text/plain": [
              "<25000x113799 sparse matrix of type '<class 'numpy.int64'>'\n",
              "\twith 1228716 stored elements in Compressed Sparse Row format>"
            ]
          },
          "metadata": {
            "tags": []
          },
          "execution_count": 14
        }
      ]
    },
    {
      "metadata": {
        "id": "4H38-l8CFz9R",
        "colab_type": "code",
        "colab": {}
      },
      "cell_type": "code",
      "source": [
        "cosine_sim_castcrew = linear_kernel(cv2_matrix2, cv2_matrix2)"
      ],
      "execution_count": 0,
      "outputs": []
    },
    {
      "metadata": {
        "id": "a40QoA7KOhmT",
        "colab_type": "code",
        "colab": {}
      },
      "cell_type": "code",
      "source": [
        "#Construct a reverse map of indices and movie titles\n",
        "indices = pd.Series(df_small.index, index=df_small['title']).drop_duplicates()"
      ],
      "execution_count": 0,
      "outputs": []
    },
    {
      "metadata": {
        "id": "1dhPjuteB2zE",
        "colab_type": "code",
        "colab": {}
      },
      "cell_type": "code",
      "source": [
        "# Function that takes in movie title as input and outputs most similar movies\n",
        "def get_recommendations_CastCrew(title, cosine_sim=cosine_sim_castcrew):\n",
        "    # Get the index of the movie that matches the title\n",
        "    idx = indices[title]\n",
        "\n",
        "    # Get the pairwsie similarity scores of all movies with that movie\n",
        "    sim_scores = list(enumerate(cosine_sim[idx]))\n",
        "\n",
        "    # Sort the movies based on the similarity scores\n",
        "    sim_scores = sorted(sim_scores, key=lambda x: x[1], reverse=True)\n",
        "\n",
        "    # Get the scores of the 10 most similar movies\n",
        "    sim_scores = sim_scores[1:11]\n",
        "\n",
        "    # Get the movie indices\n",
        "    movie_indices = [i[0] for i in sim_scores]\n",
        "\n",
        "    # Return the top 10 most similar movies\n",
        "    #return df_small['title'].iloc[movie_indices]\n",
        "  \n",
        "    topMovies = df_small['title'].iloc[movie_indices]\n",
        "    movie_ratings = [i[1] for i in sim_scores]\n",
        "    topMovies['Score'] = movie_ratings\n",
        "    return  topMovies"
      ],
      "execution_count": 0,
      "outputs": []
    },
    {
      "metadata": {
        "id": "eGPiXXyJB22O",
        "colab_type": "code",
        "outputId": "e510bd55-1c96-4a69-c695-8f1f2290104c",
        "colab": {
          "base_uri": "https://localhost:8080/",
          "height": 229
        }
      },
      "cell_type": "code",
      "source": [
        "get_recommendations_CastCrew('Toy Story')"
      ],
      "execution_count": 0,
      "outputs": [
        {
          "output_type": "execute_result",
          "data": {
            "text/plain": [
              "4038                                            15 Minutes\n",
              "4757                                        Monsters, Inc.\n",
              "2994                                           Toy Story 2\n",
              "18260                                The Dark Knight Rises\n",
              "1508                                               Contact\n",
              "6029                                             Daredevil\n",
              "17832                                         The Avengers\n",
              "22100                              The Wolf of Wall Street\n",
              "10140                                        Batman Begins\n",
              "12507                                      The Dark Knight\n",
              "Score    [321.0, 298.0, 289.0, 224.0, 197.0, 175.0, 168...\n",
              "Name: title, dtype: object"
            ]
          },
          "metadata": {
            "tags": []
          },
          "execution_count": 27
        }
      ]
    },
    {
      "metadata": {
        "id": "7M7UJtk9B24w",
        "colab_type": "code",
        "colab": {}
      },
      "cell_type": "code",
      "source": [
        "topMovies=get_recommendations_CastCrew('Toy Story')"
      ],
      "execution_count": 0,
      "outputs": []
    },
    {
      "metadata": {
        "id": "xUlslzWDB26o",
        "colab_type": "code",
        "outputId": "6087ab34-4dc3-47ec-cc0a-5911c0a4b188",
        "colab": {
          "base_uri": "https://localhost:8080/",
          "height": 52
        }
      },
      "cell_type": "code",
      "source": [
        "print(\"--------------Scores---------------------------\")\n",
        "print(topMovies['Score'])"
      ],
      "execution_count": 0,
      "outputs": [
        {
          "output_type": "stream",
          "text": [
            "--------------Scores---------------------------\n",
            "[321.0, 298.0, 289.0, 224.0, 197.0, 175.0, 168.0, 164.0, 160.0, 160.0]\n"
          ],
          "name": "stdout"
        }
      ]
    },
    {
      "metadata": {
        "id": "q6RlO0H3NCTr",
        "colab_type": "text"
      },
      "cell_type": "markdown",
      "source": [
        "##Plotting Similarity Scores of top 10 movies"
      ]
    },
    {
      "metadata": {
        "id": "0-rznC6aSu9P",
        "colab_type": "code",
        "colab": {}
      },
      "cell_type": "code",
      "source": [
        "titles = np.array(topMovies)[0:10]\n",
        "score = np.array(topMovies['Score'])"
      ],
      "execution_count": 0,
      "outputs": []
    },
    {
      "metadata": {
        "id": "oFMH7oKWMw1k",
        "colab_type": "code",
        "colab": {}
      },
      "cell_type": "code",
      "source": [
        "from textwrap import wrap\n",
        "titles = [ '\\n'.join(wrap(l, 10)) for l in titles ]"
      ],
      "execution_count": 0,
      "outputs": []
    },
    {
      "metadata": {
        "id": "JuGhRz0qMwzq",
        "colab_type": "code",
        "colab": {}
      },
      "cell_type": "code",
      "source": [
        "from pylab import rcParams\n",
        "rcParams['figure.figsize'] = 40,20"
      ],
      "execution_count": 0,
      "outputs": []
    },
    {
      "metadata": {
        "id": "0Fia2aFjMwxC",
        "colab_type": "code",
        "colab": {}
      },
      "cell_type": "code",
      "source": [
        "import matplotlib.pyplot as plt; plt.rcdefaults()\n",
        "import matplotlib.pyplot as plt"
      ],
      "execution_count": 0,
      "outputs": []
    },
    {
      "metadata": {
        "id": "UTFN2AaCMwuc",
        "colab_type": "code",
        "outputId": "4f6c8404-8908-43c7-b624-77de7003e7a9",
        "colab": {
          "base_uri": "https://localhost:8080/",
          "height": 502
        }
      },
      "cell_type": "code",
      "source": [
        "ind = np.arange(1,len(score)+1)\n",
        "plt.title(\"\")\n",
        "plt.ylabel(\"Score\")\n",
        "plt.xlabel(\"Movie Title\")\n",
        "plt.bar(ind, score,tick_label=titles, align = 'center')\n",
        "plt.legend()\n",
        "plt.show()"
      ],
      "execution_count": 0,
      "outputs": [
        {
          "output_type": "stream",
          "text": [
            "No handles with labels found to put in legend.\n"
          ],
          "name": "stderr"
        },
        {
          "output_type": "display_data",
          "data": {
            "image/png": "[encoded data removed]",
            "text/plain": [
              "<Figure size 640x480 with 1 Axes>"
            ]
          },
          "metadata": {
            "tags": []
          }
        }
      ]
    },
    {
      "metadata": {
        "id": "n95WwaH2PtJ8",
        "colab_type": "code",
        "colab": {}
      },
      "cell_type": "code",
      "source": [
        ""
      ],
      "execution_count": 0,
      "outputs": []
    }
  ]
}