{
  "nbformat": 4,
  "nbformat_minor": 0,
  "metadata": {
    "colab": {
      "name": "Content-based_prediction_using_TFIDF.ipynb",
      "version": "0.3.2",
      "provenance": [],
      "collapsed_sections": [],
      "include_colab_link": true
    },
    "kernelspec": {
      "name": "python3",
      "display_name": "Python 3"
    }
  },
  "cells": [
    {
      "cell_type": "markdown",
      "metadata": {
        "id": "view-in-github",
        "colab_type": "text"
      },
      "source": [
        "<a href=\"https://colab.research.google.com/github/justprophet/Movie-Recommendation-System/blob/master/code/Content_based_prediction_using_TFIDF.ipynb\" target=\"_parent\"><img src=\"https://colab.research.google.com/assets/colab-badge.svg\" alt=\"Open In Colab\"/></a>"
      ]
    },
    {
      "metadata": {
        "id": "dRlYpTfCb87u",
        "colab_type": "text"
      },
      "cell_type": "markdown",
      "source": [
        "## Importing Libraries"
      ]
    },
    {
      "metadata": {
        "id": "NCOg85xrWu6w",
        "colab_type": "code",
        "colab": {}
      },
      "cell_type": "code",
      "source": [
        "import numpy as np"
      ],
      "execution_count": 0,
      "outputs": []
    },
    {
      "metadata": {
        "id": "Wuz6ABAbXb6e",
        "colab_type": "code",
        "colab": {}
      },
      "cell_type": "code",
      "source": [
        "import pandas as pd\n",
        "import io"
      ],
      "execution_count": 0,
      "outputs": []
    },
    {
      "metadata": {
        "id": "rzO51EgAcNj5",
        "colab_type": "text"
      },
      "cell_type": "markdown",
      "source": [
        "## Mounting Drive and loading data"
      ]
    },
    {
      "metadata": {
        "id": "rk5OC7gyXfy2",
        "colab_type": "code",
        "outputId": "b7f91a66-96a0-42ce-e7e6-76f4b8fbf7f5",
        "colab": {
          "base_uri": "https://localhost:8080/",
          "height": 35
        }
      },
      "cell_type": "code",
      "source": [
        "from google.colab import drive \n",
        "drive.mount('/content/gdrive')"
      ],
      "execution_count": 0,
      "outputs": [
        {
          "output_type": "stream",
          "text": [
            "Drive already mounted at /content/gdrive; to attempt to forcibly remount, call drive.mount(\"/content/gdrive\", force_remount=True).\n"
          ],
          "name": "stdout"
        }
      ]
    },
    {
      "metadata": {
        "id": "pJe1c9J9XiPe",
        "colab_type": "code",
        "colab": {}
      },
      "cell_type": "code",
      "source": [
        "df=pd.read_csv('gdrive/My Drive/Assignment 2/Data/merged_without_ratings_data.csv')"
      ],
      "execution_count": 0,
      "outputs": []
    },
    {
      "metadata": {
        "id": "4Cx7yX81X6Xd",
        "colab_type": "code",
        "outputId": "13d9c824-ea1e-442c-b3e4-336b43099d9a",
        "colab": {
          "base_uri": "https://localhost:8080/",
          "height": 625
        }
      },
      "cell_type": "code",
      "source": [
        "df.head()"
      ],
      "execution_count": 0,
      "outputs": [
        {
          "output_type": "execute_result",
          "data": {
            "text/html": [
              "<div>\n",
              "<style scoped>\n",
              "    .dataframe tbody tr th:only-of-type {\n",
              "        vertical-align: middle;\n",
              "    }\n",
              "\n",
              "    .dataframe tbody tr th {\n",
              "        vertical-align: top;\n",
              "    }\n",
              "\n",
              "    .dataframe thead th {\n",
              "        text-align: right;\n",
              "    }\n",
              "</style>\n",
              "<table border=\"1\" class=\"dataframe\">\n",
              "  <thead>\n",
              "    <tr style=\"text-align: right;\">\n",
              "      <th></th>\n",
              "      <th>Unnamed: 0</th>\n",
              "      <th>Unnamed: 0.1</th>\n",
              "      <th>Unnamed: 0.1.1</th>\n",
              "      <th>genres</th>\n",
              "      <th>id</th>\n",
              "      <th>overview</th>\n",
              "      <th>popularity</th>\n",
              "      <th>title</th>\n",
              "      <th>vote_average</th>\n",
              "      <th>vote_count</th>\n",
              "      <th>cast</th>\n",
              "      <th>crew</th>\n",
              "      <th>keywords</th>\n",
              "    </tr>\n",
              "  </thead>\n",
              "  <tbody>\n",
              "    <tr>\n",
              "      <th>0</th>\n",
              "      <td>0</td>\n",
              "      <td>0</td>\n",
              "      <td>0</td>\n",
              "      <td>['Animation', 'Comedy', 'Family']</td>\n",
              "      <td>862.0</td>\n",
              "      <td>Led by Woody, Andy's toys live happily in his ...</td>\n",
              "      <td>21.946943</td>\n",
              "      <td>Toy Story</td>\n",
              "      <td>7.7</td>\n",
              "      <td>5415.0</td>\n",
              "      <td>['Tom Hanks', 'Tim Allen', 'Don Rickles', 'Jim...</td>\n",
              "      <td>['John Lasseter', 'Joss Whedon', 'Andrew Stant...</td>\n",
              "      <td>['jealousy', 'toy', 'boy', 'friendship', 'frie...</td>\n",
              "    </tr>\n",
              "    <tr>\n",
              "      <th>1</th>\n",
              "      <td>1</td>\n",
              "      <td>1</td>\n",
              "      <td>1</td>\n",
              "      <td>['Adventure', 'Fantasy', 'Family']</td>\n",
              "      <td>8844.0</td>\n",
              "      <td>When siblings Judy and Peter discover an encha...</td>\n",
              "      <td>17.015539</td>\n",
              "      <td>Jumanji</td>\n",
              "      <td>6.9</td>\n",
              "      <td>2413.0</td>\n",
              "      <td>['Robin Williams', 'Jonathan Hyde', 'Kirsten D...</td>\n",
              "      <td>['Larry J. Franco', 'Jonathan Hensleigh', 'Jam...</td>\n",
              "      <td>['board game', 'disappearance', \"based on chil...</td>\n",
              "    </tr>\n",
              "    <tr>\n",
              "      <th>2</th>\n",
              "      <td>2</td>\n",
              "      <td>2</td>\n",
              "      <td>2</td>\n",
              "      <td>['Romance', 'Comedy']</td>\n",
              "      <td>15602.0</td>\n",
              "      <td>A family wedding reignites the ancient feud be...</td>\n",
              "      <td>11.712900</td>\n",
              "      <td>Grumpier Old Men</td>\n",
              "      <td>6.5</td>\n",
              "      <td>92.0</td>\n",
              "      <td>['Walter Matthau', 'Jack Lemmon', 'Ann-Margret...</td>\n",
              "      <td>['Howard Deutch', 'Mark Steven Johnson', 'Mark...</td>\n",
              "      <td>['fishing', 'best friend', 'duringcreditssting...</td>\n",
              "    </tr>\n",
              "    <tr>\n",
              "      <th>3</th>\n",
              "      <td>3</td>\n",
              "      <td>3</td>\n",
              "      <td>3</td>\n",
              "      <td>['Comedy', 'Drama', 'Romance']</td>\n",
              "      <td>31357.0</td>\n",
              "      <td>Cheated on, mistreated and stepped on, the wom...</td>\n",
              "      <td>3.859495</td>\n",
              "      <td>Waiting to Exhale</td>\n",
              "      <td>6.1</td>\n",
              "      <td>34.0</td>\n",
              "      <td>['Whitney Houston', 'Angela Bassett', 'Loretta...</td>\n",
              "      <td>['Forest Whitaker', 'Ronald Bass', 'Ronald Bas...</td>\n",
              "      <td>['based on novel', 'interracial relationship',...</td>\n",
              "    </tr>\n",
              "    <tr>\n",
              "      <th>4</th>\n",
              "      <td>4</td>\n",
              "      <td>4</td>\n",
              "      <td>4</td>\n",
              "      <td>['Comedy']</td>\n",
              "      <td>11862.0</td>\n",
              "      <td>Just when George Banks has recovered from his ...</td>\n",
              "      <td>8.387519</td>\n",
              "      <td>Father of the Bride Part II</td>\n",
              "      <td>5.7</td>\n",
              "      <td>173.0</td>\n",
              "      <td>['Steve Martin', 'Diane Keaton', 'Martin Short...</td>\n",
              "      <td>['Alan Silvestri', 'Elliot Davis', 'Nancy Meye...</td>\n",
              "      <td>['baby', 'midlife crisis', 'confidence', 'agin...</td>\n",
              "    </tr>\n",
              "  </tbody>\n",
              "</table>\n",
              "</div>"
            ],
            "text/plain": [
              "   Unnamed: 0  Unnamed: 0.1  Unnamed: 0.1.1  \\\n",
              "0           0             0               0   \n",
              "1           1             1               1   \n",
              "2           2             2               2   \n",
              "3           3             3               3   \n",
              "4           4             4               4   \n",
              "\n",
              "                               genres       id  \\\n",
              "0   ['Animation', 'Comedy', 'Family']    862.0   \n",
              "1  ['Adventure', 'Fantasy', 'Family']   8844.0   \n",
              "2               ['Romance', 'Comedy']  15602.0   \n",
              "3      ['Comedy', 'Drama', 'Romance']  31357.0   \n",
              "4                          ['Comedy']  11862.0   \n",
              "\n",
              "                                            overview  popularity  \\\n",
              "0  Led by Woody, Andy's toys live happily in his ...   21.946943   \n",
              "1  When siblings Judy and Peter discover an encha...   17.015539   \n",
              "2  A family wedding reignites the ancient feud be...   11.712900   \n",
              "3  Cheated on, mistreated and stepped on, the wom...    3.859495   \n",
              "4  Just when George Banks has recovered from his ...    8.387519   \n",
              "\n",
              "                         title  vote_average  vote_count  \\\n",
              "0                    Toy Story           7.7      5415.0   \n",
              "1                      Jumanji           6.9      2413.0   \n",
              "2             Grumpier Old Men           6.5        92.0   \n",
              "3            Waiting to Exhale           6.1        34.0   \n",
              "4  Father of the Bride Part II           5.7       173.0   \n",
              "\n",
              "                                                cast  \\\n",
              "0  ['Tom Hanks', 'Tim Allen', 'Don Rickles', 'Jim...   \n",
              "1  ['Robin Williams', 'Jonathan Hyde', 'Kirsten D...   \n",
              "2  ['Walter Matthau', 'Jack Lemmon', 'Ann-Margret...   \n",
              "3  ['Whitney Houston', 'Angela Bassett', 'Loretta...   \n",
              "4  ['Steve Martin', 'Diane Keaton', 'Martin Short...   \n",
              "\n",
              "                                                crew  \\\n",
              "0  ['John Lasseter', 'Joss Whedon', 'Andrew Stant...   \n",
              "1  ['Larry J. Franco', 'Jonathan Hensleigh', 'Jam...   \n",
              "2  ['Howard Deutch', 'Mark Steven Johnson', 'Mark...   \n",
              "3  ['Forest Whitaker', 'Ronald Bass', 'Ronald Bas...   \n",
              "4  ['Alan Silvestri', 'Elliot Davis', 'Nancy Meye...   \n",
              "\n",
              "                                            keywords  \n",
              "0  ['jealousy', 'toy', 'boy', 'friendship', 'frie...  \n",
              "1  ['board game', 'disappearance', \"based on chil...  \n",
              "2  ['fishing', 'best friend', 'duringcreditssting...  \n",
              "3  ['based on novel', 'interracial relationship',...  \n",
              "4  ['baby', 'midlife crisis', 'confidence', 'agin...  "
            ]
          },
          "metadata": {
            "tags": []
          },
          "execution_count": 5
        }
      ]
    },
    {
      "metadata": {
        "id": "aTLYRAeCQAmk",
        "colab_type": "code",
        "outputId": "1ab97c43-65d3-4816-8233-75bd7076e889",
        "colab": {
          "base_uri": "https://localhost:8080/",
          "height": 1114
        }
      },
      "cell_type": "code",
      "source": [
        "df['cast']"
      ],
      "execution_count": 0,
      "outputs": [
        {
          "output_type": "execute_result",
          "data": {
            "text/plain": [
              "0        ['Tom Hanks', 'Tim Allen', 'Don Rickles', 'Jim...\n",
              "1        ['Robin Williams', 'Jonathan Hyde', 'Kirsten D...\n",
              "2        ['Walter Matthau', 'Jack Lemmon', 'Ann-Margret...\n",
              "3        ['Whitney Houston', 'Angela Bassett', 'Loretta...\n",
              "4        ['Steve Martin', 'Diane Keaton', 'Martin Short...\n",
              "5        ['Al Pacino', 'Robert De Niro', 'Val Kilmer', ...\n",
              "6        ['Harrison Ford', 'Julia Ormond', 'Greg Kinnea...\n",
              "7        ['Jonathan Taylor Thomas', 'Brad Renfro', 'Rac...\n",
              "8        ['Jean-Claude Van Damme', 'Powers Boothe', 'Do...\n",
              "9        ['Pierce Brosnan', 'Sean Bean', 'Izabella Scor...\n",
              "10       ['Michael Douglas', 'Annette Bening', 'Michael...\n",
              "11       ['Leslie Nielsen', 'Mel Brooks', 'Amy Yasbeck'...\n",
              "12       ['Kevin Bacon', 'Bob Hoskins', 'Bridget Fonda'...\n",
              "13       ['Anthony Hopkins', 'Joan Allen', 'Powers Boot...\n",
              "14       ['Geena Davis', 'Matthew Modine', 'Frank Lange...\n",
              "15       ['Robert De Niro', 'Sharon Stone', 'Joe Pesci'...\n",
              "16       ['Kate Winslet', 'Emma Thompson', 'Hugh Grant'...\n",
              "17       ['Tim Roth', 'Antonio Banderas', 'Jennifer Bea...\n",
              "18       ['Jim Carrey', 'Ian McNeice', 'Simon Callow', ...\n",
              "19       ['Wesley Snipes', 'Woody Harrelson', 'Jennifer...\n",
              "20       ['John Travolta', 'Gene Hackman', 'Rene Russo'...\n",
              "21       ['Sigourney Weaver', 'Holly Hunter', 'Will Pat...\n",
              "22       ['Sylvester Stallone', 'Antonio Banderas', 'Ju...\n",
              "23       ['Mary Steenburgen', 'Sean Patrick Flanery', '...\n",
              "24       ['Nicolas Cage', 'Elisabeth Shue', 'Julian San...\n",
              "25       ['Laurence Fishburne', 'Irène Jacob', 'Kenneth...\n",
              "26       ['Christina Ricci', \"Rosie O'Donnell\", 'Thora ...\n",
              "27       ['Amanda Root', 'Ciarán Hinds', 'Susan Fleetwo...\n",
              "28       ['Ron Perlman', 'Dominique Pinon', 'Judith Vit...\n",
              "29       ['Gong Li', 'Li Bao-Tian', 'Wang Xiaoxiao', 'L...\n",
              "                               ...                        \n",
              "45599    ['Lauren Holly', 'Luke Perry', 'Steve Bacic', ...\n",
              "45600                                                   []\n",
              "45601    ['Martijn Fischer', 'Hadewych Minis', 'Fedja v...\n",
              "45602    ['Acquanetta', 'Evelyn Ankers', 'J. Carrol Nai...\n",
              "45603    ['Kaley Cuoco', 'Caroline Rhea', 'Melissa Hals...\n",
              "45604    ['Hilary Duff', 'Christy Carlson Romano', 'Gar...\n",
              "45605                                                   []\n",
              "45606                                   ['Georges Méliès']\n",
              "45607                                   ['Georges Méliès']\n",
              "45608                                   ['Georges Méliès']\n",
              "45609                   ['André Méliès', 'Georges Méliès']\n",
              "45610                                   ['Georges Méliès']\n",
              "45611                                                   []\n",
              "45612    ['Jimmy Bennett', 'Peter Cullen', 'Jim Cumming...\n",
              "45613                                   ['Georges Méliès']\n",
              "45614                  [\"Jeanne d'Alcy\", 'Georges Méliès']\n",
              "45615                                                   []\n",
              "45616    ['Sridevi Kapoor', 'Sajal Ali', 'Akshaye Khann...\n",
              "45617    ['Markie Adams', 'Roberto Aguire', 'Tina Arnin...\n",
              "45618    ['Giulio Brogi', 'Renato Cestiè', 'Vito Cipoll...\n",
              "45619    ['Rondo Hatton', 'Robert Lowery', 'Virginia Gr...\n",
              "45620    ['Tony Abatemarco', 'Andre Brooks', 'Mariclare...\n",
              "45621    ['Monty Bane', 'Lucy Butler', 'David Grammer',...\n",
              "45622    ['Lisa Boyle', 'Kena Land', 'Zaneta Polard', '...\n",
              "45623    ['Patrick Bergin', 'Uma Thurman', 'David Morri...\n",
              "45624    ['Leila Hatami', 'Kourosh Tahami', 'Elham Korda']\n",
              "45625    ['Angel Aquino', 'Perry Dizon', 'Hazel Orencio...\n",
              "45626    ['Erika Eleniak', 'Adam Baldwin', 'Julie du Pa...\n",
              "45627    ['Iwan Mosschuchin', 'Nathalie Lissenko', 'Pav...\n",
              "45628                                                   []\n",
              "Name: cast, Length: 45629, dtype: object"
            ]
          },
          "metadata": {
            "tags": []
          },
          "execution_count": 6
        }
      ]
    },
    {
      "metadata": {
        "id": "CZQLudYvcmjR",
        "colab_type": "text"
      },
      "cell_type": "markdown",
      "source": [
        "##Extracting names from cast, crew and keywords"
      ]
    },
    {
      "metadata": {
        "id": "w0hCEoZrO_VZ",
        "colab_type": "code",
        "colab": {}
      },
      "cell_type": "code",
      "source": [
        "from ast import literal_eval\n",
        "import ast\n",
        "df['cast'] = df['cast'].fillna('[]').apply(literal_eval).apply(lambda x: [i['name'] for i in x] if isinstance(x, list) else [])"
      ],
      "execution_count": 0,
      "outputs": []
    },
    {
      "metadata": {
        "id": "cmY_5UcmO_Mn",
        "colab_type": "code",
        "colab": {}
      },
      "cell_type": "code",
      "source": [
        "df['crew'] = df['crew'].fillna('[]').apply(literal_eval).apply(lambda x: [i['name'] for i in x] if isinstance(x, list) else [])"
      ],
      "execution_count": 0,
      "outputs": []
    },
    {
      "metadata": {
        "id": "kFJjwo4VO_GY",
        "colab_type": "code",
        "colab": {}
      },
      "cell_type": "code",
      "source": [
        "df['keywords'] = df['keywords'].fillna('[]').apply(literal_eval).apply(lambda x: [i['name'] for i in x] if isinstance(x, list) else [])"
      ],
      "execution_count": 0,
      "outputs": []
    },
    {
      "metadata": {
        "id": "9-_w7MPZO_EO",
        "colab_type": "code",
        "outputId": "2c320ea9-7c50-4e6b-e5e4-826eaa27a3c5",
        "colab": {
          "base_uri": "https://localhost:8080/",
          "height": 625
        }
      },
      "cell_type": "code",
      "source": [
        "df.head()"
      ],
      "execution_count": 0,
      "outputs": [
        {
          "output_type": "execute_result",
          "data": {
            "text/html": [
              "<div>\n",
              "<style scoped>\n",
              "    .dataframe tbody tr th:only-of-type {\n",
              "        vertical-align: middle;\n",
              "    }\n",
              "\n",
              "    .dataframe tbody tr th {\n",
              "        vertical-align: top;\n",
              "    }\n",
              "\n",
              "    .dataframe thead th {\n",
              "        text-align: right;\n",
              "    }\n",
              "</style>\n",
              "<table border=\"1\" class=\"dataframe\">\n",
              "  <thead>\n",
              "    <tr style=\"text-align: right;\">\n",
              "      <th></th>\n",
              "      <th>Unnamed: 0</th>\n",
              "      <th>Unnamed: 0.1</th>\n",
              "      <th>Unnamed: 0.1.1</th>\n",
              "      <th>genres</th>\n",
              "      <th>id</th>\n",
              "      <th>overview</th>\n",
              "      <th>popularity</th>\n",
              "      <th>title</th>\n",
              "      <th>vote_average</th>\n",
              "      <th>vote_count</th>\n",
              "      <th>cast</th>\n",
              "      <th>crew</th>\n",
              "      <th>keywords</th>\n",
              "    </tr>\n",
              "  </thead>\n",
              "  <tbody>\n",
              "    <tr>\n",
              "      <th>0</th>\n",
              "      <td>0</td>\n",
              "      <td>0</td>\n",
              "      <td>0</td>\n",
              "      <td>['Animation', 'Comedy', 'Family']</td>\n",
              "      <td>862.0</td>\n",
              "      <td>Led by Woody, Andy's toys live happily in his ...</td>\n",
              "      <td>21.946943</td>\n",
              "      <td>Toy Story</td>\n",
              "      <td>7.7</td>\n",
              "      <td>5415.0</td>\n",
              "      <td>['Tom Hanks', 'Tim Allen', 'Don Rickles', 'Jim...</td>\n",
              "      <td>['John Lasseter', 'Joss Whedon', 'Andrew Stant...</td>\n",
              "      <td>['jealousy', 'toy', 'boy', 'friendship', 'frie...</td>\n",
              "    </tr>\n",
              "    <tr>\n",
              "      <th>1</th>\n",
              "      <td>1</td>\n",
              "      <td>1</td>\n",
              "      <td>1</td>\n",
              "      <td>['Adventure', 'Fantasy', 'Family']</td>\n",
              "      <td>8844.0</td>\n",
              "      <td>When siblings Judy and Peter discover an encha...</td>\n",
              "      <td>17.015539</td>\n",
              "      <td>Jumanji</td>\n",
              "      <td>6.9</td>\n",
              "      <td>2413.0</td>\n",
              "      <td>['Robin Williams', 'Jonathan Hyde', 'Kirsten D...</td>\n",
              "      <td>['Larry J. Franco', 'Jonathan Hensleigh', 'Jam...</td>\n",
              "      <td>['board game', 'disappearance', \"based on chil...</td>\n",
              "    </tr>\n",
              "    <tr>\n",
              "      <th>2</th>\n",
              "      <td>2</td>\n",
              "      <td>2</td>\n",
              "      <td>2</td>\n",
              "      <td>['Romance', 'Comedy']</td>\n",
              "      <td>15602.0</td>\n",
              "      <td>A family wedding reignites the ancient feud be...</td>\n",
              "      <td>11.712900</td>\n",
              "      <td>Grumpier Old Men</td>\n",
              "      <td>6.5</td>\n",
              "      <td>92.0</td>\n",
              "      <td>['Walter Matthau', 'Jack Lemmon', 'Ann-Margret...</td>\n",
              "      <td>['Howard Deutch', 'Mark Steven Johnson', 'Mark...</td>\n",
              "      <td>['fishing', 'best friend', 'duringcreditssting...</td>\n",
              "    </tr>\n",
              "    <tr>\n",
              "      <th>3</th>\n",
              "      <td>3</td>\n",
              "      <td>3</td>\n",
              "      <td>3</td>\n",
              "      <td>['Comedy', 'Drama', 'Romance']</td>\n",
              "      <td>31357.0</td>\n",
              "      <td>Cheated on, mistreated and stepped on, the wom...</td>\n",
              "      <td>3.859495</td>\n",
              "      <td>Waiting to Exhale</td>\n",
              "      <td>6.1</td>\n",
              "      <td>34.0</td>\n",
              "      <td>['Whitney Houston', 'Angela Bassett', 'Loretta...</td>\n",
              "      <td>['Forest Whitaker', 'Ronald Bass', 'Ronald Bas...</td>\n",
              "      <td>['based on novel', 'interracial relationship',...</td>\n",
              "    </tr>\n",
              "    <tr>\n",
              "      <th>4</th>\n",
              "      <td>4</td>\n",
              "      <td>4</td>\n",
              "      <td>4</td>\n",
              "      <td>['Comedy']</td>\n",
              "      <td>11862.0</td>\n",
              "      <td>Just when George Banks has recovered from his ...</td>\n",
              "      <td>8.387519</td>\n",
              "      <td>Father of the Bride Part II</td>\n",
              "      <td>5.7</td>\n",
              "      <td>173.0</td>\n",
              "      <td>['Steve Martin', 'Diane Keaton', 'Martin Short...</td>\n",
              "      <td>['Alan Silvestri', 'Elliot Davis', 'Nancy Meye...</td>\n",
              "      <td>['baby', 'midlife crisis', 'confidence', 'agin...</td>\n",
              "    </tr>\n",
              "  </tbody>\n",
              "</table>\n",
              "</div>"
            ],
            "text/plain": [
              "   Unnamed: 0  Unnamed: 0.1  Unnamed: 0.1.1  \\\n",
              "0           0             0               0   \n",
              "1           1             1               1   \n",
              "2           2             2               2   \n",
              "3           3             3               3   \n",
              "4           4             4               4   \n",
              "\n",
              "                               genres       id  \\\n",
              "0   ['Animation', 'Comedy', 'Family']    862.0   \n",
              "1  ['Adventure', 'Fantasy', 'Family']   8844.0   \n",
              "2               ['Romance', 'Comedy']  15602.0   \n",
              "3      ['Comedy', 'Drama', 'Romance']  31357.0   \n",
              "4                          ['Comedy']  11862.0   \n",
              "\n",
              "                                            overview  popularity  \\\n",
              "0  Led by Woody, Andy's toys live happily in his ...   21.946943   \n",
              "1  When siblings Judy and Peter discover an encha...   17.015539   \n",
              "2  A family wedding reignites the ancient feud be...   11.712900   \n",
              "3  Cheated on, mistreated and stepped on, the wom...    3.859495   \n",
              "4  Just when George Banks has recovered from his ...    8.387519   \n",
              "\n",
              "                         title  vote_average  vote_count  \\\n",
              "0                    Toy Story           7.7      5415.0   \n",
              "1                      Jumanji           6.9      2413.0   \n",
              "2             Grumpier Old Men           6.5        92.0   \n",
              "3            Waiting to Exhale           6.1        34.0   \n",
              "4  Father of the Bride Part II           5.7       173.0   \n",
              "\n",
              "                                                cast  \\\n",
              "0  ['Tom Hanks', 'Tim Allen', 'Don Rickles', 'Jim...   \n",
              "1  ['Robin Williams', 'Jonathan Hyde', 'Kirsten D...   \n",
              "2  ['Walter Matthau', 'Jack Lemmon', 'Ann-Margret...   \n",
              "3  ['Whitney Houston', 'Angela Bassett', 'Loretta...   \n",
              "4  ['Steve Martin', 'Diane Keaton', 'Martin Short...   \n",
              "\n",
              "                                                crew  \\\n",
              "0  ['John Lasseter', 'Joss Whedon', 'Andrew Stant...   \n",
              "1  ['Larry J. Franco', 'Jonathan Hensleigh', 'Jam...   \n",
              "2  ['Howard Deutch', 'Mark Steven Johnson', 'Mark...   \n",
              "3  ['Forest Whitaker', 'Ronald Bass', 'Ronald Bas...   \n",
              "4  ['Alan Silvestri', 'Elliot Davis', 'Nancy Meye...   \n",
              "\n",
              "                                            keywords  \n",
              "0  ['jealousy', 'toy', 'boy', 'friendship', 'frie...  \n",
              "1  ['board game', 'disappearance', \"based on chil...  \n",
              "2  ['fishing', 'best friend', 'duringcreditssting...  \n",
              "3  ['based on novel', 'interracial relationship',...  \n",
              "4  ['baby', 'midlife crisis', 'confidence', 'agin...  "
            ]
          },
          "metadata": {
            "tags": []
          },
          "execution_count": 9
        }
      ]
    },
    {
      "metadata": {
        "id": "TXEmQAmJP4XB",
        "colab_type": "code",
        "colab": {}
      },
      "cell_type": "code",
      "source": [
        "df.to_csv('gdrive/My Drive/Assignment 2/Data/merged_without_ratings_data.csv')"
      ],
      "execution_count": 0,
      "outputs": []
    },
    {
      "metadata": {
        "id": "Ymvl-61GP4Lg",
        "colab_type": "code",
        "colab": {}
      },
      "cell_type": "code",
      "source": [
        "df=pd.read_csv('gdrive/My Drive/Assignment 2/Data/merged_without_ratings_data.csv')"
      ],
      "execution_count": 0,
      "outputs": []
    },
    {
      "metadata": {
        "id": "pJOWI6CUebuy",
        "colab_type": "text"
      },
      "cell_type": "markdown",
      "source": [
        "##Concatinating Cast_Crew"
      ]
    },
    {
      "metadata": {
        "id": "Y6I9FBleQtCF",
        "colab_type": "code",
        "outputId": "aa78b0ce-c081-4250-ba63-312ace185ea7",
        "colab": {
          "base_uri": "https://localhost:8080/",
          "height": 123
        }
      },
      "cell_type": "code",
      "source": [
        "df['CastCrew'] = df['cast'] + df['crew']\n",
        "df['CastCrew'].head()"
      ],
      "execution_count": 0,
      "outputs": [
        {
          "output_type": "execute_result",
          "data": {
            "text/plain": [
              "0    ['Tom Hanks', 'Tim Allen', 'Don Rickles', 'Jim...\n",
              "1    ['Robin Williams', 'Jonathan Hyde', 'Kirsten D...\n",
              "2    ['Walter Matthau', 'Jack Lemmon', 'Ann-Margret...\n",
              "3    ['Whitney Houston', 'Angela Bassett', 'Loretta...\n",
              "4    ['Steve Martin', 'Diane Keaton', 'Martin Short...\n",
              "Name: CastCrew, dtype: object"
            ]
          },
          "metadata": {
            "tags": []
          },
          "execution_count": 12
        }
      ]
    },
    {
      "metadata": {
        "id": "cJ7JSe9wYD68",
        "colab_type": "code",
        "colab": {}
      },
      "cell_type": "code",
      "source": [
        "df_small = df[0:25000]"
      ],
      "execution_count": 0,
      "outputs": []
    },
    {
      "metadata": {
        "id": "dyrcOX2IYJgs",
        "colab_type": "code",
        "outputId": "61003598-7382-45dc-8b0d-a708f7f95333",
        "colab": {
          "base_uri": "https://localhost:8080/",
          "height": 35
        }
      },
      "cell_type": "code",
      "source": [
        "df_small.shape"
      ],
      "execution_count": 0,
      "outputs": [
        {
          "output_type": "execute_result",
          "data": {
            "text/plain": [
              "(25000, 15)"
            ]
          },
          "metadata": {
            "tags": []
          },
          "execution_count": 14
        }
      ]
    },
    {
      "metadata": {
        "id": "M-l1kE42YLtC",
        "colab_type": "code",
        "outputId": "f777d304-c9ec-4847-fead-e745d5ad814f",
        "colab": {
          "base_uri": "https://localhost:8080/",
          "height": 88
        }
      },
      "cell_type": "code",
      "source": [
        "df_small.columns"
      ],
      "execution_count": 0,
      "outputs": [
        {
          "output_type": "execute_result",
          "data": {
            "text/plain": [
              "Index(['Unnamed: 0', 'Unnamed: 0.1', 'Unnamed: 0.1.1', 'Unnamed: 0.1.1.1',\n",
              "       'genres', 'id', 'overview', 'popularity', 'title', 'vote_average',\n",
              "       'vote_count', 'cast', 'crew', 'keywords', 'CastCrew'],\n",
              "      dtype='object')"
            ]
          },
          "metadata": {
            "tags": []
          },
          "execution_count": 15
        }
      ]
    },
    {
      "metadata": {
        "id": "mRHFCAhoYQ1L",
        "colab_type": "text"
      },
      "cell_type": "markdown",
      "source": [
        "#Overview_Based"
      ]
    },
    {
      "metadata": {
        "id": "S8XDdn2fYOWO",
        "colab_type": "code",
        "outputId": "d172765c-4866-476d-977c-f7ec35663939",
        "colab": {
          "base_uri": "https://localhost:8080/",
          "height": 123
        }
      },
      "cell_type": "code",
      "source": [
        "df_small['overview'].head(5)"
      ],
      "execution_count": 0,
      "outputs": [
        {
          "output_type": "execute_result",
          "data": {
            "text/plain": [
              "0    Led by Woody, Andy's toys live happily in his ...\n",
              "1    When siblings Judy and Peter discover an encha...\n",
              "2    A family wedding reignites the ancient feud be...\n",
              "3    Cheated on, mistreated and stepped on, the wom...\n",
              "4    Just when George Banks has recovered from his ...\n",
              "Name: overview, dtype: object"
            ]
          },
          "metadata": {
            "tags": []
          },
          "execution_count": 16
        }
      ]
    },
    {
      "metadata": {
        "id": "5gyIlpmZeksR",
        "colab_type": "text"
      },
      "cell_type": "markdown",
      "source": [
        "## Creating TFIDF"
      ]
    },
    {
      "metadata": {
        "id": "YWsiCfFyYQR3",
        "colab_type": "code",
        "colab": {}
      },
      "cell_type": "code",
      "source": [
        "from sklearn.feature_extraction.text import TfidfVectorizer"
      ],
      "execution_count": 0,
      "outputs": []
    },
    {
      "metadata": {
        "id": "Wn5tHAqIYUnB",
        "colab_type": "code",
        "outputId": "c5a9b9e6-832f-47f7-983b-3225ce1a23f5",
        "colab": {
          "base_uri": "https://localhost:8080/",
          "height": 35
        }
      },
      "cell_type": "code",
      "source": [
        "#Define a TF-IDF Vectorizer Object. Remove all english stop words such as 'the', 'a'\n",
        "tfidf = TfidfVectorizer(stop_words='english')\n",
        "#Construct the required TF-IDF matrix by fitting and transforming the data\n",
        "tfidf_matrix = tfidf.fit_transform(df_small['overview'].dropna())\n",
        "tfidf_matrix.shape"
      ],
      "execution_count": 0,
      "outputs": [
        {
          "output_type": "execute_result",
          "data": {
            "text/plain": [
              "(25000, 53259)"
            ]
          },
          "metadata": {
            "tags": []
          },
          "execution_count": 18
        }
      ]
    },
    {
      "metadata": {
        "id": "WmRiM9CzaBkq",
        "colab_type": "text"
      },
      "cell_type": "markdown",
      "source": [
        "We see that over 53259 different words were used to describe the 25000 movies in our dataset.\n",
        "\n"
      ]
    },
    {
      "metadata": {
        "id": "Qx7mdNN2YYC_",
        "colab_type": "code",
        "colab": {}
      },
      "cell_type": "code",
      "source": [
        "#compute similarity score using the cosine similarity matrix\n",
        "from sklearn.metrics.pairwise import linear_kernel"
      ],
      "execution_count": 0,
      "outputs": []
    },
    {
      "metadata": {
        "id": "nwGhFhHIYcdL",
        "colab_type": "code",
        "colab": {}
      },
      "cell_type": "code",
      "source": [
        "cosine_sim = linear_kernel(tfidf_matrix, tfidf_matrix)"
      ],
      "execution_count": 0,
      "outputs": []
    },
    {
      "metadata": {
        "id": "CFsf9AtTbFzB",
        "colab_type": "text"
      },
      "cell_type": "markdown",
      "source": [
        "We are going to define a function that takes in a movie title as an input and outputs a list of the 10 most similar movies. Firstly, for this, we need a reverse mapping of movie titles and dataframe indices which means we need a mechanism to identify the index of a movie in our dataframe, given its title."
      ]
    },
    {
      "metadata": {
        "id": "igHvRmkTYesQ",
        "colab_type": "code",
        "colab": {}
      },
      "cell_type": "code",
      "source": [
        "#Construct a reverse map of indices and movie titles\n",
        "indices = pd.Series(df_small.index, index=df_small['title']).drop_duplicates()"
      ],
      "execution_count": 0,
      "outputs": []
    },
    {
      "metadata": {
        "id": "0TBSFe5XZRZR",
        "colab_type": "code",
        "colab": {}
      },
      "cell_type": "code",
      "source": [
        "# Function that takes in movie title as input and outputs most similar movies\n",
        "def get_recommendations(title, cosine_sim=cosine_sim):\n",
        "    # Get the index of the movie that matches the title\n",
        "    idx = indices[title]\n",
        "\n",
        "    # Get the pairwsie similarity scores of all movies with that movie\n",
        "    sim_scores = list(enumerate(cosine_sim[idx]))\n",
        "\n",
        "    # Sort the movies based on the similarity scores\n",
        "    sim_scores = sorted(sim_scores, key=lambda x: x[1], reverse=True)\n",
        "\n",
        "    # Get the scores of the 10 most similar movies\n",
        "    sim_scores = sim_scores[1:11]\n",
        "\n",
        "    # Get the movie indices\n",
        "    movie_indices = [i[0] for i in sim_scores]\n",
        "\n",
        "    # Return the top 10 most similar movies\n",
        "    #return df_small['title'].iloc[movie_indices]\n",
        "    \n",
        "    topMovies = df_small['title'].iloc[movie_indices]\n",
        "    movie_ratings = [i[1] for i in sim_scores]\n",
        "    topMovies['Score'] = movie_ratings\n",
        "    return  topMovies"
      ],
      "execution_count": 0,
      "outputs": []
    },
    {
      "metadata": {
        "id": "UIYP27GvZVDv",
        "colab_type": "code",
        "outputId": "63139f1b-9825-4ca5-d808-9c5245067c23",
        "colab": {
          "base_uri": "https://localhost:8080/",
          "height": 713
        }
      },
      "cell_type": "code",
      "source": [
        "df_small.head(5)"
      ],
      "execution_count": 0,
      "outputs": [
        {
          "output_type": "execute_result",
          "data": {
            "text/html": [
              "<div>\n",
              "<style scoped>\n",
              "    .dataframe tbody tr th:only-of-type {\n",
              "        vertical-align: middle;\n",
              "    }\n",
              "\n",
              "    .dataframe tbody tr th {\n",
              "        vertical-align: top;\n",
              "    }\n",
              "\n",
              "    .dataframe thead th {\n",
              "        text-align: right;\n",
              "    }\n",
              "</style>\n",
              "<table border=\"1\" class=\"dataframe\">\n",
              "  <thead>\n",
              "    <tr style=\"text-align: right;\">\n",
              "      <th></th>\n",
              "      <th>Unnamed: 0</th>\n",
              "      <th>Unnamed: 0.1</th>\n",
              "      <th>Unnamed: 0.1.1</th>\n",
              "      <th>Unnamed: 0.1.1.1</th>\n",
              "      <th>genres</th>\n",
              "      <th>id</th>\n",
              "      <th>overview</th>\n",
              "      <th>popularity</th>\n",
              "      <th>title</th>\n",
              "      <th>vote_average</th>\n",
              "      <th>vote_count</th>\n",
              "      <th>cast</th>\n",
              "      <th>crew</th>\n",
              "      <th>keywords</th>\n",
              "      <th>CastCrew</th>\n",
              "    </tr>\n",
              "  </thead>\n",
              "  <tbody>\n",
              "    <tr>\n",
              "      <th>0</th>\n",
              "      <td>0</td>\n",
              "      <td>0</td>\n",
              "      <td>0</td>\n",
              "      <td>0</td>\n",
              "      <td>['Animation', 'Comedy', 'Family']</td>\n",
              "      <td>862.0</td>\n",
              "      <td>Led by Woody, Andy's toys live happily in his ...</td>\n",
              "      <td>21.946943</td>\n",
              "      <td>Toy Story</td>\n",
              "      <td>7.7</td>\n",
              "      <td>5415.0</td>\n",
              "      <td>['Tom Hanks', 'Tim Allen', 'Don Rickles', 'Jim...</td>\n",
              "      <td>['John Lasseter', 'Joss Whedon', 'Andrew Stant...</td>\n",
              "      <td>['jealousy', 'toy', 'boy', 'friendship', 'frie...</td>\n",
              "      <td>['Tom Hanks', 'Tim Allen', 'Don Rickles', 'Jim...</td>\n",
              "    </tr>\n",
              "    <tr>\n",
              "      <th>1</th>\n",
              "      <td>1</td>\n",
              "      <td>1</td>\n",
              "      <td>1</td>\n",
              "      <td>1</td>\n",
              "      <td>['Adventure', 'Fantasy', 'Family']</td>\n",
              "      <td>8844.0</td>\n",
              "      <td>When siblings Judy and Peter discover an encha...</td>\n",
              "      <td>17.015539</td>\n",
              "      <td>Jumanji</td>\n",
              "      <td>6.9</td>\n",
              "      <td>2413.0</td>\n",
              "      <td>['Robin Williams', 'Jonathan Hyde', 'Kirsten D...</td>\n",
              "      <td>['Larry J. Franco', 'Jonathan Hensleigh', 'Jam...</td>\n",
              "      <td>['board game', 'disappearance', \"based on chil...</td>\n",
              "      <td>['Robin Williams', 'Jonathan Hyde', 'Kirsten D...</td>\n",
              "    </tr>\n",
              "    <tr>\n",
              "      <th>2</th>\n",
              "      <td>2</td>\n",
              "      <td>2</td>\n",
              "      <td>2</td>\n",
              "      <td>2</td>\n",
              "      <td>['Romance', 'Comedy']</td>\n",
              "      <td>15602.0</td>\n",
              "      <td>A family wedding reignites the ancient feud be...</td>\n",
              "      <td>11.712900</td>\n",
              "      <td>Grumpier Old Men</td>\n",
              "      <td>6.5</td>\n",
              "      <td>92.0</td>\n",
              "      <td>['Walter Matthau', 'Jack Lemmon', 'Ann-Margret...</td>\n",
              "      <td>['Howard Deutch', 'Mark Steven Johnson', 'Mark...</td>\n",
              "      <td>['fishing', 'best friend', 'duringcreditssting...</td>\n",
              "      <td>['Walter Matthau', 'Jack Lemmon', 'Ann-Margret...</td>\n",
              "    </tr>\n",
              "    <tr>\n",
              "      <th>3</th>\n",
              "      <td>3</td>\n",
              "      <td>3</td>\n",
              "      <td>3</td>\n",
              "      <td>3</td>\n",
              "      <td>['Comedy', 'Drama', 'Romance']</td>\n",
              "      <td>31357.0</td>\n",
              "      <td>Cheated on, mistreated and stepped on, the wom...</td>\n",
              "      <td>3.859495</td>\n",
              "      <td>Waiting to Exhale</td>\n",
              "      <td>6.1</td>\n",
              "      <td>34.0</td>\n",
              "      <td>['Whitney Houston', 'Angela Bassett', 'Loretta...</td>\n",
              "      <td>['Forest Whitaker', 'Ronald Bass', 'Ronald Bas...</td>\n",
              "      <td>['based on novel', 'interracial relationship',...</td>\n",
              "      <td>['Whitney Houston', 'Angela Bassett', 'Loretta...</td>\n",
              "    </tr>\n",
              "    <tr>\n",
              "      <th>4</th>\n",
              "      <td>4</td>\n",
              "      <td>4</td>\n",
              "      <td>4</td>\n",
              "      <td>4</td>\n",
              "      <td>['Comedy']</td>\n",
              "      <td>11862.0</td>\n",
              "      <td>Just when George Banks has recovered from his ...</td>\n",
              "      <td>8.387519</td>\n",
              "      <td>Father of the Bride Part II</td>\n",
              "      <td>5.7</td>\n",
              "      <td>173.0</td>\n",
              "      <td>['Steve Martin', 'Diane Keaton', 'Martin Short...</td>\n",
              "      <td>['Alan Silvestri', 'Elliot Davis', 'Nancy Meye...</td>\n",
              "      <td>['baby', 'midlife crisis', 'confidence', 'agin...</td>\n",
              "      <td>['Steve Martin', 'Diane Keaton', 'Martin Short...</td>\n",
              "    </tr>\n",
              "  </tbody>\n",
              "</table>\n",
              "</div>"
            ],
            "text/plain": [
              "   Unnamed: 0  Unnamed: 0.1  Unnamed: 0.1.1  Unnamed: 0.1.1.1  \\\n",
              "0           0             0               0                 0   \n",
              "1           1             1               1                 1   \n",
              "2           2             2               2                 2   \n",
              "3           3             3               3                 3   \n",
              "4           4             4               4                 4   \n",
              "\n",
              "                               genres       id  \\\n",
              "0   ['Animation', 'Comedy', 'Family']    862.0   \n",
              "1  ['Adventure', 'Fantasy', 'Family']   8844.0   \n",
              "2               ['Romance', 'Comedy']  15602.0   \n",
              "3      ['Comedy', 'Drama', 'Romance']  31357.0   \n",
              "4                          ['Comedy']  11862.0   \n",
              "\n",
              "                                            overview  popularity  \\\n",
              "0  Led by Woody, Andy's toys live happily in his ...   21.946943   \n",
              "1  When siblings Judy and Peter discover an encha...   17.015539   \n",
              "2  A family wedding reignites the ancient feud be...   11.712900   \n",
              "3  Cheated on, mistreated and stepped on, the wom...    3.859495   \n",
              "4  Just when George Banks has recovered from his ...    8.387519   \n",
              "\n",
              "                         title  vote_average  vote_count  \\\n",
              "0                    Toy Story           7.7      5415.0   \n",
              "1                      Jumanji           6.9      2413.0   \n",
              "2             Grumpier Old Men           6.5        92.0   \n",
              "3            Waiting to Exhale           6.1        34.0   \n",
              "4  Father of the Bride Part II           5.7       173.0   \n",
              "\n",
              "                                                cast  \\\n",
              "0  ['Tom Hanks', 'Tim Allen', 'Don Rickles', 'Jim...   \n",
              "1  ['Robin Williams', 'Jonathan Hyde', 'Kirsten D...   \n",
              "2  ['Walter Matthau', 'Jack Lemmon', 'Ann-Margret...   \n",
              "3  ['Whitney Houston', 'Angela Bassett', 'Loretta...   \n",
              "4  ['Steve Martin', 'Diane Keaton', 'Martin Short...   \n",
              "\n",
              "                                                crew  \\\n",
              "0  ['John Lasseter', 'Joss Whedon', 'Andrew Stant...   \n",
              "1  ['Larry J. Franco', 'Jonathan Hensleigh', 'Jam...   \n",
              "2  ['Howard Deutch', 'Mark Steven Johnson', 'Mark...   \n",
              "3  ['Forest Whitaker', 'Ronald Bass', 'Ronald Bas...   \n",
              "4  ['Alan Silvestri', 'Elliot Davis', 'Nancy Meye...   \n",
              "\n",
              "                                            keywords  \\\n",
              "0  ['jealousy', 'toy', 'boy', 'friendship', 'frie...   \n",
              "1  ['board game', 'disappearance', \"based on chil...   \n",
              "2  ['fishing', 'best friend', 'duringcreditssting...   \n",
              "3  ['based on novel', 'interracial relationship',...   \n",
              "4  ['baby', 'midlife crisis', 'confidence', 'agin...   \n",
              "\n",
              "                                            CastCrew  \n",
              "0  ['Tom Hanks', 'Tim Allen', 'Don Rickles', 'Jim...  \n",
              "1  ['Robin Williams', 'Jonathan Hyde', 'Kirsten D...  \n",
              "2  ['Walter Matthau', 'Jack Lemmon', 'Ann-Margret...  \n",
              "3  ['Whitney Houston', 'Angela Bassett', 'Loretta...  \n",
              "4  ['Steve Martin', 'Diane Keaton', 'Martin Short...  "
            ]
          },
          "metadata": {
            "tags": []
          },
          "execution_count": 27
        }
      ]
    },
    {
      "metadata": {
        "id": "bbct0VLeZZZw",
        "colab_type": "code",
        "outputId": "d70247d7-ed34-46f5-857c-ebb27cb17dd6",
        "colab": {
          "base_uri": "https://localhost:8080/",
          "height": 211
        }
      },
      "cell_type": "code",
      "source": [
        "get_recommendations('Jumanji')"
      ],
      "execution_count": 0,
      "outputs": [
        {
          "output_type": "execute_result",
          "data": {
            "text/plain": [
              "21605                   Table No. 21\n",
              "6176                       Brainscan\n",
              "8815                         Quintet\n",
              "17248                 The Dark Angel\n",
              "9520                       Word Wars\n",
              "13643    The Mindscape of Alan Moore\n",
              "16878                         DeVour\n",
              "8094                         Masques\n",
              "13753                     Rhinoceros\n",
              "6065                Poolhall Junkies\n",
              "Name: title, dtype: object"
            ]
          },
          "metadata": {
            "tags": []
          },
          "execution_count": 24
        }
      ]
    },
    {
      "metadata": {
        "id": "mMQCVdgIBiQB",
        "colab_type": "code",
        "colab": {}
      },
      "cell_type": "code",
      "source": [
        "topMovies=get_recommendations('Toy Story')"
      ],
      "execution_count": 0,
      "outputs": []
    },
    {
      "metadata": {
        "id": "FGcAILZtBiOT",
        "colab_type": "code",
        "outputId": "cf9dfbd5-c4d0-4d32-884d-598548021778",
        "colab": {
          "base_uri": "https://localhost:8080/",
          "height": 229
        }
      },
      "cell_type": "code",
      "source": [
        "print(topMovies)"
      ],
      "execution_count": 0,
      "outputs": [
        {
          "output_type": "stream",
          "text": [
            "15378                                          Toy Story 3\n",
            "2994                                           Toy Story 2\n",
            "10319                               The 40 Year Old Virgin\n",
            "24463                                            Small Fry\n",
            "23790                          Andy Hardy's Blonde Trouble\n",
            "8342                                             The Champ\n",
            "1067                                 Rebel Without a Cause\n",
            "11424                               For Your Consideration\n",
            "1928                                             Condorman\n",
            "21333                             Andy Hardy's Double Life\n",
            "Score    [0.5272751473212888, 0.4647118869780595, 0.279...\n",
            "Name: title, dtype: object\n"
          ],
          "name": "stdout"
        }
      ]
    },
    {
      "metadata": {
        "id": "M-UJHRm3BiCq",
        "colab_type": "code",
        "outputId": "e38d6881-62c1-40ba-8b87-d89e953db2af",
        "colab": {
          "base_uri": "https://localhost:8080/",
          "height": 72
        }
      },
      "cell_type": "code",
      "source": [
        "print(\"--------------Scores---------------------------\")\n",
        "print(topMovies['Score'])"
      ],
      "execution_count": 0,
      "outputs": [
        {
          "output_type": "stream",
          "text": [
            "--------------Scores---------------------------\n",
            "[0.5272751473212888, 0.4647118869780595, 0.279148651754355, 0.269745896641082, 0.2382600693023101, 0.19912457050659385, 0.18091206703157695, 0.15574533564762452, 0.15515328234459766, 0.14514603774129484]\n"
          ],
          "name": "stdout"
        }
      ]
    },
    {
      "metadata": {
        "id": "qkM834owBh68",
        "colab_type": "code",
        "colab": {}
      },
      "cell_type": "code",
      "source": [
        "titles = np.array(topMovies)[0:10]\n",
        "score = np.array(topMovies['Score'])"
      ],
      "execution_count": 0,
      "outputs": []
    },
    {
      "metadata": {
        "id": "8nqFnnvwHKLS",
        "colab_type": "text"
      },
      "cell_type": "markdown",
      "source": [
        "## Plotting Similarity Scores of top 10 movies"
      ]
    },
    {
      "metadata": {
        "id": "ZM6PTJCfBh5M",
        "colab_type": "code",
        "colab": {}
      },
      "cell_type": "code",
      "source": [
        "from textwrap import wrap\n",
        "titles = [ '\\n'.join(wrap(l, 10)) for l in titles ]"
      ],
      "execution_count": 0,
      "outputs": []
    },
    {
      "metadata": {
        "id": "fsBUiviVBh2h",
        "colab_type": "code",
        "colab": {}
      },
      "cell_type": "code",
      "source": [
        "from pylab import rcParams\n",
        "rcParams['figure.figsize'] = 40,20"
      ],
      "execution_count": 0,
      "outputs": []
    },
    {
      "metadata": {
        "id": "pBWK2b7jDak_",
        "colab_type": "code",
        "colab": {}
      },
      "cell_type": "code",
      "source": [
        "import matplotlib.pyplot as plt; plt.rcdefaults()\n",
        "import matplotlib.pyplot as plt"
      ],
      "execution_count": 0,
      "outputs": []
    },
    {
      "metadata": {
        "id": "tKrxotjTBhz_",
        "colab_type": "code",
        "outputId": "490ab26d-fa8b-40f9-bf27-7aaa47281f90",
        "colab": {
          "base_uri": "https://localhost:8080/",
          "height": 518
        }
      },
      "cell_type": "code",
      "source": [
        "ind = np.arange(1,len(score)+1)\n",
        "plt.title(\"\")\n",
        "plt.ylabel(\"Score\")\n",
        "plt.xlabel(\"Movie Title\")\n",
        "plt.bar(ind, score,tick_label=titles, align = 'center')\n",
        "plt.legend()\n",
        "plt.show()"
      ],
      "execution_count": 0,
      "outputs": [
        {
          "output_type": "stream",
          "text": [
            "No handles with labels found to put in legend.\n"
          ],
          "name": "stderr"
        },
        {
          "output_type": "display_data",
          "data": {
            "image/png": "[encoded data removed]",
            "text/plain": [
              "<Figure size 640x480 with 1 Axes>"
            ]
          },
          "metadata": {
            "tags": []
          }
        }
      ]
    },
    {
      "metadata": {
        "id": "whdvQaWNHXMZ",
        "colab_type": "text"
      },
      "cell_type": "markdown",
      "source": [
        ""
      ]
    },
    {
      "metadata": {
        "id": "EwawpNeIIMjo",
        "colab_type": "code",
        "outputId": "ff8d7fdd-cb7f-4a52-b8d6-1ac493bc3424",
        "colab": {
          "base_uri": "https://localhost:8080/",
          "height": 123
        }
      },
      "cell_type": "code",
      "source": [
        "df_small['cast'].head(5)"
      ],
      "execution_count": 0,
      "outputs": [
        {
          "output_type": "execute_result",
          "data": {
            "text/plain": [
              "0    ['Tom Hanks', 'Tim Allen', 'Don Rickles', 'Jim...\n",
              "1    ['Robin Williams', 'Jonathan Hyde', 'Kirsten D...\n",
              "2    ['Walter Matthau', 'Jack Lemmon', 'Ann-Margret...\n",
              "3    ['Whitney Houston', 'Angela Bassett', 'Loretta...\n",
              "4    ['Steve Martin', 'Diane Keaton', 'Martin Short...\n",
              "Name: cast, dtype: object"
            ]
          },
          "metadata": {
            "tags": []
          },
          "execution_count": 26
        }
      ]
    },
    {
      "metadata": {
        "id": "SfwMsqniIMmI",
        "colab_type": "code",
        "outputId": "86ba98f5-a1a3-48f3-cb68-fcc997ce0d1e",
        "colab": {
          "base_uri": "https://localhost:8080/",
          "height": 123
        }
      },
      "cell_type": "code",
      "source": [
        "df_small['crew'].head(5)"
      ],
      "execution_count": 0,
      "outputs": [
        {
          "output_type": "execute_result",
          "data": {
            "text/plain": [
              "0    ['John Lasseter', 'Joss Whedon', 'Andrew Stant...\n",
              "1    ['Larry J. Franco', 'Jonathan Hensleigh', 'Jam...\n",
              "2    ['Howard Deutch', 'Mark Steven Johnson', 'Mark...\n",
              "3    ['Forest Whitaker', 'Ronald Bass', 'Ronald Bas...\n",
              "4    ['Alan Silvestri', 'Elliot Davis', 'Nancy Meye...\n",
              "Name: crew, dtype: object"
            ]
          },
          "metadata": {
            "tags": []
          },
          "execution_count": 27
        }
      ]
    },
    {
      "metadata": {
        "id": "jaTH3YloIMon",
        "colab_type": "code",
        "outputId": "dcfef848-7d70-4f59-c987-688b729ceb94",
        "colab": {
          "base_uri": "https://localhost:8080/",
          "height": 123
        }
      },
      "cell_type": "code",
      "source": [
        "df_small['keywords'].head(5)"
      ],
      "execution_count": 0,
      "outputs": [
        {
          "output_type": "execute_result",
          "data": {
            "text/plain": [
              "0    ['jealousy', 'toy', 'boy', 'friendship', 'frie...\n",
              "1    ['board game', 'disappearance', \"based on chil...\n",
              "2    ['fishing', 'best friend', 'duringcreditssting...\n",
              "3    ['based on novel', 'interracial relationship',...\n",
              "4    ['baby', 'midlife crisis', 'confidence', 'agin...\n",
              "Name: keywords, dtype: object"
            ]
          },
          "metadata": {
            "tags": []
          },
          "execution_count": 28
        }
      ]
    },
    {
      "metadata": {
        "id": "6R5OMWQsYqjM",
        "colab_type": "text"
      },
      "cell_type": "markdown",
      "source": [
        "#Cast_Crew_Based_Recommendation"
      ]
    },
    {
      "metadata": {
        "id": "vs_og-HgIMqZ",
        "colab_type": "code",
        "outputId": "d4156f44-ed64-424e-af44-5305ef095b78",
        "colab": {
          "base_uri": "https://localhost:8080/",
          "height": 35
        }
      },
      "cell_type": "code",
      "source": [
        "#Define a TF-IDF Vectorizer Object. Remove all english stop words such as 'the', 'a'\n",
        "tfidf2 = TfidfVectorizer(stop_words='english')\n",
        "#Construct the required TF-IDF matrix by fitting and transforming the data\n",
        "tfidf_matrix2 = tfidf2.fit_transform(df_small['CastCrew'].dropna())\n",
        "tfidf_matrix2.shape"
      ],
      "execution_count": 0,
      "outputs": [
        {
          "output_type": "execute_result",
          "data": {
            "text/plain": [
              "(25000, 113799)"
            ]
          },
          "metadata": {
            "tags": []
          },
          "execution_count": 29
        }
      ]
    },
    {
      "metadata": {
        "id": "qRQxzpK-Fz7N",
        "colab_type": "code",
        "outputId": "ab575aa6-2f3f-40ab-a19e-38befc177b75",
        "colab": {
          "base_uri": "https://localhost:8080/",
          "height": 52
        }
      },
      "cell_type": "code",
      "source": [
        "tfidf_matrix2"
      ],
      "execution_count": 0,
      "outputs": [
        {
          "output_type": "execute_result",
          "data": {
            "text/plain": [
              "<25000x113799 sparse matrix of type '<class 'numpy.float64'>'\n",
              "\twith 1228716 stored elements in Compressed Sparse Row format>"
            ]
          },
          "metadata": {
            "tags": []
          },
          "execution_count": 30
        }
      ]
    },
    {
      "metadata": {
        "id": "4H38-l8CFz9R",
        "colab_type": "code",
        "colab": {}
      },
      "cell_type": "code",
      "source": [
        "cosine_sim_castcrew = linear_kernel(tfidf_matrix2, tfidf_matrix2)"
      ],
      "execution_count": 0,
      "outputs": []
    },
    {
      "metadata": {
        "id": "1dhPjuteB2zE",
        "colab_type": "code",
        "colab": {}
      },
      "cell_type": "code",
      "source": [
        "# Function that takes in movie title as input and outputs most similar movies\n",
        "def get_recommendations_CastCrew(title, cosine_sim=cosine_sim_castcrew):\n",
        "    # Get the index of the movie that matches the title\n",
        "    idx = indices[title]\n",
        "\n",
        "    # Get the pairwsie similarity scores of all movies with that movie\n",
        "    sim_scores = list(enumerate(cosine_sim[idx]))\n",
        "\n",
        "    # Sort the movies based on the similarity scores\n",
        "    sim_scores = sorted(sim_scores, key=lambda x: x[1], reverse=True)\n",
        "\n",
        "    # Get the scores of the 10 most similar movies\n",
        "    sim_scores = sim_scores[1:11]\n",
        "\n",
        "    # Get the movie indices\n",
        "    movie_indices = [i[0] for i in sim_scores]\n",
        "\n",
        "    # Return the top 10 most similar movies\n",
        "    return df_small['title'].iloc[movie_indices]"
      ],
      "execution_count": 0,
      "outputs": []
    },
    {
      "metadata": {
        "id": "eGPiXXyJB22O",
        "colab_type": "code",
        "outputId": "cabde29f-3a50-472a-81d2-ab71d81a0554",
        "colab": {
          "base_uri": "https://localhost:8080/",
          "height": 204
        }
      },
      "cell_type": "code",
      "source": [
        "get_recommendations_CastCrew('Toy Story')"
      ],
      "execution_count": 0,
      "outputs": [
        {
          "output_type": "execute_result",
          "data": {
            "text/plain": [
              "2994              Toy Story 2\n",
              "4757           Monsters, Inc.\n",
              "15378             Toy Story 3\n",
              "12730                  WALL·E\n",
              "6242             Finding Nemo\n",
              "2236             A Bug's Life\n",
              "13765                      Up\n",
              "21898    Toy Story of Terror!\n",
              "19097                  Presto\n",
              "10998                    Cars\n",
              "Name: title, dtype: object"
            ]
          },
          "metadata": {
            "tags": []
          },
          "execution_count": 23
        }
      ]
    },
    {
      "metadata": {
        "id": "7M7UJtk9B24w",
        "colab_type": "code",
        "colab": {}
      },
      "cell_type": "code",
      "source": [
        ""
      ],
      "execution_count": 0,
      "outputs": []
    },
    {
      "metadata": {
        "id": "xUlslzWDB26o",
        "colab_type": "code",
        "colab": {}
      },
      "cell_type": "code",
      "source": [
        ""
      ],
      "execution_count": 0,
      "outputs": []
    },
    {
      "metadata": {
        "id": "0-rznC6aSu9P",
        "colab_type": "code",
        "colab": {}
      },
      "cell_type": "code",
      "source": [
        ""
      ],
      "execution_count": 0,
      "outputs": []
    }
  ]
}